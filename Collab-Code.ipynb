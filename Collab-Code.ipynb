{
  "cells": [
    {
      "cell_type": "markdown",
      "metadata": {
        "id": "4cbgwZWWfWpp"
      },
      "source": [
        "# New Section"
      ]
    },
    {
      "cell_type": "code",
      "execution_count": null,
      "metadata": {
        "id": "tAb77yZ9fzMG"
      },
      "outputs": [],
      "source": [
        "import pandas as pd\n",
        "import numpy as np"
      ]
    },
    {
      "cell_type": "code",
      "execution_count": null,
      "metadata": {
        "colab": {
          "base_uri": "https://localhost:8080/"
        },
        "id": "mY8rEt4U1QLz",
        "outputId": "099b1703-3fac-444f-bcb1-2546e4afb63e"
      },
      "outputs": [
        {
          "name": "stdout",
          "output_type": "stream",
          "text": [
            "Mounted at /content/drive\n"
          ]
        }
      ],
      "source": [
        "from google.colab import drive\n",
        "drive.mount('/content/drive')"
      ]
    },
    {
      "cell_type": "code",
      "execution_count": null,
      "metadata": {
        "colab": {
          "base_uri": "https://localhost:8080/"
        },
        "id": "pafL7Li0jyXW",
        "outputId": "490ee9f7-2377-4801-873d-c2a73a3cbff2"
      },
      "outputs": [
        {
          "name": "stderr",
          "output_type": "stream",
          "text": [
            "/usr/local/lib/python3.8/dist-packages/IPython/core/interactiveshell.py:3326: DtypeWarning: Columns (85) have mixed types.Specify dtype option on import or set low_memory=False.\n",
            "  exec(code_obj, self.user_global_ns, self.user_ns)\n"
          ]
        }
      ],
      "source": [
        "DrDoS_NTP_data_data_5_per = pd.read_csv('/content/drive/MyDrive/DrDoS_NTP.csv')"
      ]
    },
    {
      "cell_type": "code",
      "execution_count": null,
      "metadata": {
        "id": "4u9Ayw5E3tNa"
      },
      "outputs": [],
      "source": [
        "data = pd.concat([DrDoS_NTP_data_data_5_per],ignore_index = True)\n"
      ]
    },
    {
      "cell_type": "code",
      "execution_count": null,
      "metadata": {
        "colab": {
          "base_uri": "https://localhost:8080/"
        },
        "id": "FRpTQzUn6N42",
        "outputId": "1e7549ef-1516-49d6-83c4-4dd21ea1dd34"
      },
      "outputs": [
        {
          "data": {
            "text/plain": [
              "(1217007, 88)"
            ]
          },
          "execution_count": 5,
          "metadata": {},
          "output_type": "execute_result"
        }
      ],
      "source": [
        "data.shape"
      ]
    },
    {
      "cell_type": "code",
      "execution_count": null,
      "metadata": {
        "colab": {
          "base_uri": "https://localhost:8080/"
        },
        "id": "hL52Nf236PKw",
        "outputId": "d9b874b9-908e-423c-89cc-df7888426cd9"
      },
      "outputs": [
        {
          "data": {
            "text/plain": [
              "DrDoS_NTP    1202642\n",
              "BENIGN         14365\n",
              "Name:  Label, dtype: int64"
            ]
          },
          "execution_count": 6,
          "metadata": {},
          "output_type": "execute_result"
        }
      ],
      "source": [
        "data[' Label'].value_counts()"
      ]
    },
    {
      "cell_type": "code",
      "execution_count": null,
      "metadata": {
        "colab": {
          "base_uri": "https://localhost:8080/"
        },
        "id": "Zi31xtro7E-x",
        "outputId": "89f45e77-1bc2-41a4-f92d-5057f3ea7089"
      },
      "outputs": [
        {
          "data": {
            "text/plain": [
              "Index(['Unnamed: 0', 'Flow ID', ' Source IP', ' Source Port',\n",
              "       ' Destination IP', ' Destination Port', ' Protocol', ' Timestamp',\n",
              "       ' Flow Duration', ' Total Fwd Packets', ' Total Backward Packets',\n",
              "       'Total Length of Fwd Packets', ' Total Length of Bwd Packets',\n",
              "       ' Fwd Packet Length Max', ' Fwd Packet Length Min',\n",
              "       ' Fwd Packet Length Mean', ' Fwd Packet Length Std',\n",
              "       'Bwd Packet Length Max', ' Bwd Packet Length Min',\n",
              "       ' Bwd Packet Length Mean', ' Bwd Packet Length Std', 'Flow Bytes/s',\n",
              "       ' Flow Packets/s', ' Flow IAT Mean', ' Flow IAT Std', ' Flow IAT Max',\n",
              "       ' Flow IAT Min', 'Fwd IAT Total', ' Fwd IAT Mean', ' Fwd IAT Std',\n",
              "       ' Fwd IAT Max', ' Fwd IAT Min', 'Bwd IAT Total', ' Bwd IAT Mean',\n",
              "       ' Bwd IAT Std', ' Bwd IAT Max', ' Bwd IAT Min', 'Fwd PSH Flags',\n",
              "       ' Bwd PSH Flags', ' Fwd URG Flags', ' Bwd URG Flags',\n",
              "       ' Fwd Header Length', ' Bwd Header Length', 'Fwd Packets/s',\n",
              "       ' Bwd Packets/s', ' Min Packet Length', ' Max Packet Length',\n",
              "       ' Packet Length Mean', ' Packet Length Std', ' Packet Length Variance',\n",
              "       'FIN Flag Count', ' SYN Flag Count', ' RST Flag Count',\n",
              "       ' PSH Flag Count', ' ACK Flag Count', ' URG Flag Count',\n",
              "       ' CWE Flag Count', ' ECE Flag Count', ' Down/Up Ratio',\n",
              "       ' Average Packet Size', ' Avg Fwd Segment Size',\n",
              "       ' Avg Bwd Segment Size', ' Fwd Header Length.1', 'Fwd Avg Bytes/Bulk',\n",
              "       ' Fwd Avg Packets/Bulk', ' Fwd Avg Bulk Rate', ' Bwd Avg Bytes/Bulk',\n",
              "       ' Bwd Avg Packets/Bulk', 'Bwd Avg Bulk Rate', 'Subflow Fwd Packets',\n",
              "       ' Subflow Fwd Bytes', ' Subflow Bwd Packets', ' Subflow Bwd Bytes',\n",
              "       'Init_Win_bytes_forward', ' Init_Win_bytes_backward',\n",
              "       ' act_data_pkt_fwd', ' min_seg_size_forward', 'Active Mean',\n",
              "       ' Active Std', ' Active Max', ' Active Min', 'Idle Mean', ' Idle Std',\n",
              "       ' Idle Max', ' Idle Min', 'SimillarHTTP', ' Inbound', ' Label'],\n",
              "      dtype='object')"
            ]
          },
          "execution_count": 7,
          "metadata": {},
          "output_type": "execute_result"
        }
      ],
      "source": [
        "data.columns"
      ]
    },
    {
      "cell_type": "code",
      "execution_count": null,
      "metadata": {
        "id": "JzLbnVFX7FhX"
      },
      "outputs": [],
      "source": [
        "data_real = data.replace(np.inf, np.nan)\n"
      ]
    },
    {
      "cell_type": "code",
      "execution_count": null,
      "metadata": {
        "colab": {
          "base_uri": "https://localhost:8080/"
        },
        "id": "QQsOlrwZ9Lrd",
        "outputId": "8c7867a0-6408-43ba-bd72-1aa5d98cc1f9"
      },
      "outputs": [
        {
          "data": {
            "text/plain": [
              "14092"
            ]
          },
          "execution_count": 9,
          "metadata": {},
          "output_type": "execute_result"
        }
      ],
      "source": [
        "data_real.isnull().sum().sum()"
      ]
    },
    {
      "cell_type": "code",
      "execution_count": null,
      "metadata": {
        "id": "50kzSNAM9P47"
      },
      "outputs": [],
      "source": [
        "data_df = data_real.dropna(axis=0)"
      ]
    },
    {
      "cell_type": "code",
      "execution_count": null,
      "metadata": {
        "colab": {
          "base_uri": "https://localhost:8080/"
        },
        "id": "YDumwFaQ9WVm",
        "outputId": "04b69df5-b1eb-4070-caf2-de7248d9885f"
      },
      "outputs": [
        {
          "data": {
            "text/plain": [
              "0"
            ]
          },
          "execution_count": 11,
          "metadata": {},
          "output_type": "execute_result"
        }
      ],
      "source": [
        "data_df.isnull().sum().sum()"
      ]
    },
    {
      "cell_type": "code",
      "execution_count": null,
      "metadata": {
        "colab": {
          "base_uri": "https://localhost:8080/",
          "height": 852
        },
        "id": "13CJSQw49yXD",
        "outputId": "df66dba4-dd60-4da1-f067-3fa99b610638"
      },
      "outputs": [
        {
          "data": {
            "text/html": [
              "\n",
              "  <div id=\"df-3935a1c1-e568-4789-ac85-d62ebeadbd50\">\n",
              "    <div class=\"colab-df-container\">\n",
              "      <div>\n",
              "<style scoped>\n",
              "    .dataframe tbody tr th:only-of-type {\n",
              "        vertical-align: middle;\n",
              "    }\n",
              "\n",
              "    .dataframe tbody tr th {\n",
              "        vertical-align: top;\n",
              "    }\n",
              "\n",
              "    .dataframe thead th {\n",
              "        text-align: right;\n",
              "    }\n",
              "</style>\n",
              "<table border=\"1\" class=\"dataframe\">\n",
              "  <thead>\n",
              "    <tr style=\"text-align: right;\">\n",
              "      <th></th>\n",
              "      <th>Unnamed: 0</th>\n",
              "      <th>Flow ID</th>\n",
              "      <th>Source IP</th>\n",
              "      <th>Source Port</th>\n",
              "      <th>Destination IP</th>\n",
              "      <th>Destination Port</th>\n",
              "      <th>Protocol</th>\n",
              "      <th>Timestamp</th>\n",
              "      <th>Flow Duration</th>\n",
              "      <th>Total Fwd Packets</th>\n",
              "      <th>...</th>\n",
              "      <th>Active Std</th>\n",
              "      <th>Active Max</th>\n",
              "      <th>Active Min</th>\n",
              "      <th>Idle Mean</th>\n",
              "      <th>Idle Std</th>\n",
              "      <th>Idle Max</th>\n",
              "      <th>Idle Min</th>\n",
              "      <th>SimillarHTTP</th>\n",
              "      <th>Inbound</th>\n",
              "      <th>Label</th>\n",
              "    </tr>\n",
              "  </thead>\n",
              "  <tbody>\n",
              "    <tr>\n",
              "      <th>0</th>\n",
              "      <td>0</td>\n",
              "      <td>172.16.0.5-192.168.50.1-60675-80-6</td>\n",
              "      <td>172.16.0.5</td>\n",
              "      <td>60675</td>\n",
              "      <td>192.168.50.1</td>\n",
              "      <td>80</td>\n",
              "      <td>6</td>\n",
              "      <td>2018-12-01 09:17:11.183810</td>\n",
              "      <td>5220876</td>\n",
              "      <td>12</td>\n",
              "      <td>...</td>\n",
              "      <td>0.000000</td>\n",
              "      <td>0.0</td>\n",
              "      <td>0.0</td>\n",
              "      <td>0.0</td>\n",
              "      <td>0.000000</td>\n",
              "      <td>0.0</td>\n",
              "      <td>0.0</td>\n",
              "      <td>205.174.165.72/c.php</td>\n",
              "      <td>1</td>\n",
              "      <td>DrDoS_NTP</td>\n",
              "    </tr>\n",
              "    <tr>\n",
              "      <th>1</th>\n",
              "      <td>7</td>\n",
              "      <td>172.16.0.5-192.168.50.1-60676-80-6</td>\n",
              "      <td>172.16.0.5</td>\n",
              "      <td>60676</td>\n",
              "      <td>192.168.50.1</td>\n",
              "      <td>80</td>\n",
              "      <td>6</td>\n",
              "      <td>2018-12-01 09:17:11.205636</td>\n",
              "      <td>12644252</td>\n",
              "      <td>5</td>\n",
              "      <td>...</td>\n",
              "      <td>0.000000</td>\n",
              "      <td>0.0</td>\n",
              "      <td>0.0</td>\n",
              "      <td>0.0</td>\n",
              "      <td>0.000000</td>\n",
              "      <td>0.0</td>\n",
              "      <td>0.0</td>\n",
              "      <td>0</td>\n",
              "      <td>1</td>\n",
              "      <td>DrDoS_NTP</td>\n",
              "    </tr>\n",
              "    <tr>\n",
              "      <th>2</th>\n",
              "      <td>12858</td>\n",
              "      <td>192.168.50.7-65.55.163.78-50458-443-6</td>\n",
              "      <td>65.55.163.78</td>\n",
              "      <td>443</td>\n",
              "      <td>192.168.50.7</td>\n",
              "      <td>50458</td>\n",
              "      <td>6</td>\n",
              "      <td>2018-12-01 09:17:12.634569</td>\n",
              "      <td>3</td>\n",
              "      <td>2</td>\n",
              "      <td>...</td>\n",
              "      <td>0.000000</td>\n",
              "      <td>0.0</td>\n",
              "      <td>0.0</td>\n",
              "      <td>0.0</td>\n",
              "      <td>0.000000</td>\n",
              "      <td>0.0</td>\n",
              "      <td>0.0</td>\n",
              "      <td>0</td>\n",
              "      <td>1</td>\n",
              "      <td>BENIGN</td>\n",
              "    </tr>\n",
              "    <tr>\n",
              "      <th>3</th>\n",
              "      <td>10191</td>\n",
              "      <td>192.168.50.7-65.55.163.78-50465-443-6</td>\n",
              "      <td>65.55.163.78</td>\n",
              "      <td>443</td>\n",
              "      <td>192.168.50.7</td>\n",
              "      <td>50465</td>\n",
              "      <td>6</td>\n",
              "      <td>2018-12-01 09:17:13.458370</td>\n",
              "      <td>3</td>\n",
              "      <td>2</td>\n",
              "      <td>...</td>\n",
              "      <td>0.000000</td>\n",
              "      <td>0.0</td>\n",
              "      <td>0.0</td>\n",
              "      <td>0.0</td>\n",
              "      <td>0.000000</td>\n",
              "      <td>0.0</td>\n",
              "      <td>0.0</td>\n",
              "      <td>0</td>\n",
              "      <td>1</td>\n",
              "      <td>BENIGN</td>\n",
              "    </tr>\n",
              "    <tr>\n",
              "      <th>4</th>\n",
              "      <td>239</td>\n",
              "      <td>192.168.50.253-224.0.0.5-0-0-0</td>\n",
              "      <td>192.168.50.253</td>\n",
              "      <td>0</td>\n",
              "      <td>224.0.0.5</td>\n",
              "      <td>0</td>\n",
              "      <td>0</td>\n",
              "      <td>2018-12-01 09:17:13.470913</td>\n",
              "      <td>114329232</td>\n",
              "      <td>52</td>\n",
              "      <td>...</td>\n",
              "      <td>2.466441</td>\n",
              "      <td>15.0</td>\n",
              "      <td>6.0</td>\n",
              "      <td>9527428.0</td>\n",
              "      <td>248706.681286</td>\n",
              "      <td>9950741.0</td>\n",
              "      <td>9092248.0</td>\n",
              "      <td>0</td>\n",
              "      <td>0</td>\n",
              "      <td>BENIGN</td>\n",
              "    </tr>\n",
              "    <tr>\n",
              "      <th>...</th>\n",
              "      <td>...</td>\n",
              "      <td>...</td>\n",
              "      <td>...</td>\n",
              "      <td>...</td>\n",
              "      <td>...</td>\n",
              "      <td>...</td>\n",
              "      <td>...</td>\n",
              "      <td>...</td>\n",
              "      <td>...</td>\n",
              "      <td>...</td>\n",
              "      <td>...</td>\n",
              "      <td>...</td>\n",
              "      <td>...</td>\n",
              "      <td>...</td>\n",
              "      <td>...</td>\n",
              "      <td>...</td>\n",
              "      <td>...</td>\n",
              "      <td>...</td>\n",
              "      <td>...</td>\n",
              "      <td>...</td>\n",
              "      <td>...</td>\n",
              "    </tr>\n",
              "    <tr>\n",
              "      <th>1217002</th>\n",
              "      <td>2414</td>\n",
              "      <td>172.16.0.5-192.168.50.1-634-63125-17</td>\n",
              "      <td>172.16.0.5</td>\n",
              "      <td>634</td>\n",
              "      <td>192.168.50.1</td>\n",
              "      <td>63125</td>\n",
              "      <td>17</td>\n",
              "      <td>2018-12-01 10:51:39.600556</td>\n",
              "      <td>37146</td>\n",
              "      <td>200</td>\n",
              "      <td>...</td>\n",
              "      <td>0.000000</td>\n",
              "      <td>0.0</td>\n",
              "      <td>0.0</td>\n",
              "      <td>0.0</td>\n",
              "      <td>0.000000</td>\n",
              "      <td>0.0</td>\n",
              "      <td>0.0</td>\n",
              "      <td>0</td>\n",
              "      <td>1</td>\n",
              "      <td>DrDoS_NTP</td>\n",
              "    </tr>\n",
              "    <tr>\n",
              "      <th>1217003</th>\n",
              "      <td>1506</td>\n",
              "      <td>172.16.0.5-192.168.50.1-634-12431-17</td>\n",
              "      <td>172.16.0.5</td>\n",
              "      <td>634</td>\n",
              "      <td>192.168.50.1</td>\n",
              "      <td>12431</td>\n",
              "      <td>17</td>\n",
              "      <td>2018-12-01 10:51:39.635018</td>\n",
              "      <td>42011</td>\n",
              "      <td>200</td>\n",
              "      <td>...</td>\n",
              "      <td>0.000000</td>\n",
              "      <td>0.0</td>\n",
              "      <td>0.0</td>\n",
              "      <td>0.0</td>\n",
              "      <td>0.000000</td>\n",
              "      <td>0.0</td>\n",
              "      <td>0.0</td>\n",
              "      <td>0</td>\n",
              "      <td>1</td>\n",
              "      <td>DrDoS_NTP</td>\n",
              "    </tr>\n",
              "    <tr>\n",
              "      <th>1217004</th>\n",
              "      <td>195</td>\n",
              "      <td>172.16.0.5-192.168.50.1-634-881-17</td>\n",
              "      <td>172.16.0.5</td>\n",
              "      <td>634</td>\n",
              "      <td>192.168.50.1</td>\n",
              "      <td>881</td>\n",
              "      <td>17</td>\n",
              "      <td>2018-12-01 10:51:39.685553</td>\n",
              "      <td>40375</td>\n",
              "      <td>200</td>\n",
              "      <td>...</td>\n",
              "      <td>0.000000</td>\n",
              "      <td>0.0</td>\n",
              "      <td>0.0</td>\n",
              "      <td>0.0</td>\n",
              "      <td>0.000000</td>\n",
              "      <td>0.0</td>\n",
              "      <td>0.0</td>\n",
              "      <td>0</td>\n",
              "      <td>1</td>\n",
              "      <td>DrDoS_NTP</td>\n",
              "    </tr>\n",
              "    <tr>\n",
              "      <th>1217005</th>\n",
              "      <td>266</td>\n",
              "      <td>172.16.0.5-192.168.50.1-634-7051-17</td>\n",
              "      <td>172.16.0.5</td>\n",
              "      <td>634</td>\n",
              "      <td>192.168.50.1</td>\n",
              "      <td>7051</td>\n",
              "      <td>17</td>\n",
              "      <td>2018-12-01 10:51:39.721301</td>\n",
              "      <td>59116</td>\n",
              "      <td>200</td>\n",
              "      <td>...</td>\n",
              "      <td>0.000000</td>\n",
              "      <td>0.0</td>\n",
              "      <td>0.0</td>\n",
              "      <td>0.0</td>\n",
              "      <td>0.000000</td>\n",
              "      <td>0.0</td>\n",
              "      <td>0.0</td>\n",
              "      <td>0</td>\n",
              "      <td>1</td>\n",
              "      <td>DrDoS_NTP</td>\n",
              "    </tr>\n",
              "    <tr>\n",
              "      <th>1217006</th>\n",
              "      <td>508</td>\n",
              "      <td>172.16.0.5-192.168.50.1-634-60495-17</td>\n",
              "      <td>172.16.0.5</td>\n",
              "      <td>634</td>\n",
              "      <td>192.168.50.1</td>\n",
              "      <td>60495</td>\n",
              "      <td>17</td>\n",
              "      <td>2018-12-01 10:51:39.778786</td>\n",
              "      <td>34660</td>\n",
              "      <td>103</td>\n",
              "      <td>...</td>\n",
              "      <td>0.000000</td>\n",
              "      <td>0.0</td>\n",
              "      <td>0.0</td>\n",
              "      <td>0.0</td>\n",
              "      <td>0.000000</td>\n",
              "      <td>0.0</td>\n",
              "      <td>0.0</td>\n",
              "      <td>0</td>\n",
              "      <td>1</td>\n",
              "      <td>DrDoS_NTP</td>\n",
              "    </tr>\n",
              "  </tbody>\n",
              "</table>\n",
              "<p>1209961 rows × 88 columns</p>\n",
              "</div>\n",
              "      <button class=\"colab-df-convert\" onclick=\"convertToInteractive('df-3935a1c1-e568-4789-ac85-d62ebeadbd50')\"\n",
              "              title=\"Convert this dataframe to an interactive table.\"\n",
              "              style=\"display:none;\">\n",
              "        \n",
              "  <svg xmlns=\"http://www.w3.org/2000/svg\" height=\"24px\"viewBox=\"0 0 24 24\"\n",
              "       width=\"24px\">\n",
              "    <path d=\"M0 0h24v24H0V0z\" fill=\"none\"/>\n",
              "    <path d=\"M18.56 5.44l.94 2.06.94-2.06 2.06-.94-2.06-.94-.94-2.06-.94 2.06-2.06.94zm-11 1L8.5 8.5l.94-2.06 2.06-.94-2.06-.94L8.5 2.5l-.94 2.06-2.06.94zm10 10l.94 2.06.94-2.06 2.06-.94-2.06-.94-.94-2.06-.94 2.06-2.06.94z\"/><path d=\"M17.41 7.96l-1.37-1.37c-.4-.4-.92-.59-1.43-.59-.52 0-1.04.2-1.43.59L10.3 9.45l-7.72 7.72c-.78.78-.78 2.05 0 2.83L4 21.41c.39.39.9.59 1.41.59.51 0 1.02-.2 1.41-.59l7.78-7.78 2.81-2.81c.8-.78.8-2.07 0-2.86zM5.41 20L4 18.59l7.72-7.72 1.47 1.35L5.41 20z\"/>\n",
              "  </svg>\n",
              "      </button>\n",
              "      \n",
              "  <style>\n",
              "    .colab-df-container {\n",
              "      display:flex;\n",
              "      flex-wrap:wrap;\n",
              "      gap: 12px;\n",
              "    }\n",
              "\n",
              "    .colab-df-convert {\n",
              "      background-color: #E8F0FE;\n",
              "      border: none;\n",
              "      border-radius: 50%;\n",
              "      cursor: pointer;\n",
              "      display: none;\n",
              "      fill: #1967D2;\n",
              "      height: 32px;\n",
              "      padding: 0 0 0 0;\n",
              "      width: 32px;\n",
              "    }\n",
              "\n",
              "    .colab-df-convert:hover {\n",
              "      background-color: #E2EBFA;\n",
              "      box-shadow: 0px 1px 2px rgba(60, 64, 67, 0.3), 0px 1px 3px 1px rgba(60, 64, 67, 0.15);\n",
              "      fill: #174EA6;\n",
              "    }\n",
              "\n",
              "    [theme=dark] .colab-df-convert {\n",
              "      background-color: #3B4455;\n",
              "      fill: #D2E3FC;\n",
              "    }\n",
              "\n",
              "    [theme=dark] .colab-df-convert:hover {\n",
              "      background-color: #434B5C;\n",
              "      box-shadow: 0px 1px 3px 1px rgba(0, 0, 0, 0.15);\n",
              "      filter: drop-shadow(0px 1px 2px rgba(0, 0, 0, 0.3));\n",
              "      fill: #FFFFFF;\n",
              "    }\n",
              "  </style>\n",
              "\n",
              "      <script>\n",
              "        const buttonEl =\n",
              "          document.querySelector('#df-3935a1c1-e568-4789-ac85-d62ebeadbd50 button.colab-df-convert');\n",
              "        buttonEl.style.display =\n",
              "          google.colab.kernel.accessAllowed ? 'block' : 'none';\n",
              "\n",
              "        async function convertToInteractive(key) {\n",
              "          const element = document.querySelector('#df-3935a1c1-e568-4789-ac85-d62ebeadbd50');\n",
              "          const dataTable =\n",
              "            await google.colab.kernel.invokeFunction('convertToInteractive',\n",
              "                                                     [key], {});\n",
              "          if (!dataTable) return;\n",
              "\n",
              "          const docLinkHtml = 'Like what you see? Visit the ' +\n",
              "            '<a target=\"_blank\" href=https://colab.research.google.com/notebooks/data_table.ipynb>data table notebook</a>'\n",
              "            + ' to learn more about interactive tables.';\n",
              "          element.innerHTML = '';\n",
              "          dataTable['output_type'] = 'display_data';\n",
              "          await google.colab.output.renderOutput(dataTable, element);\n",
              "          const docLink = document.createElement('div');\n",
              "          docLink.innerHTML = docLinkHtml;\n",
              "          element.appendChild(docLink);\n",
              "        }\n",
              "      </script>\n",
              "    </div>\n",
              "  </div>\n",
              "  "
            ],
            "text/plain": [
              "         Unnamed: 0                                Flow ID       Source IP  \\\n",
              "0                 0     172.16.0.5-192.168.50.1-60675-80-6      172.16.0.5   \n",
              "1                 7     172.16.0.5-192.168.50.1-60676-80-6      172.16.0.5   \n",
              "2             12858  192.168.50.7-65.55.163.78-50458-443-6    65.55.163.78   \n",
              "3             10191  192.168.50.7-65.55.163.78-50465-443-6    65.55.163.78   \n",
              "4               239         192.168.50.253-224.0.0.5-0-0-0  192.168.50.253   \n",
              "...             ...                                    ...             ...   \n",
              "1217002        2414   172.16.0.5-192.168.50.1-634-63125-17      172.16.0.5   \n",
              "1217003        1506   172.16.0.5-192.168.50.1-634-12431-17      172.16.0.5   \n",
              "1217004         195     172.16.0.5-192.168.50.1-634-881-17      172.16.0.5   \n",
              "1217005         266    172.16.0.5-192.168.50.1-634-7051-17      172.16.0.5   \n",
              "1217006         508   172.16.0.5-192.168.50.1-634-60495-17      172.16.0.5   \n",
              "\n",
              "          Source Port  Destination IP   Destination Port   Protocol  \\\n",
              "0               60675    192.168.50.1                 80          6   \n",
              "1               60676    192.168.50.1                 80          6   \n",
              "2                 443    192.168.50.7              50458          6   \n",
              "3                 443    192.168.50.7              50465          6   \n",
              "4                   0       224.0.0.5                  0          0   \n",
              "...               ...             ...                ...        ...   \n",
              "1217002           634    192.168.50.1              63125         17   \n",
              "1217003           634    192.168.50.1              12431         17   \n",
              "1217004           634    192.168.50.1                881         17   \n",
              "1217005           634    192.168.50.1               7051         17   \n",
              "1217006           634    192.168.50.1              60495         17   \n",
              "\n",
              "                          Timestamp   Flow Duration   Total Fwd Packets  ...  \\\n",
              "0        2018-12-01 09:17:11.183810         5220876                  12  ...   \n",
              "1        2018-12-01 09:17:11.205636        12644252                   5  ...   \n",
              "2        2018-12-01 09:17:12.634569               3                   2  ...   \n",
              "3        2018-12-01 09:17:13.458370               3                   2  ...   \n",
              "4        2018-12-01 09:17:13.470913       114329232                  52  ...   \n",
              "...                             ...             ...                 ...  ...   \n",
              "1217002  2018-12-01 10:51:39.600556           37146                 200  ...   \n",
              "1217003  2018-12-01 10:51:39.635018           42011                 200  ...   \n",
              "1217004  2018-12-01 10:51:39.685553           40375                 200  ...   \n",
              "1217005  2018-12-01 10:51:39.721301           59116                 200  ...   \n",
              "1217006  2018-12-01 10:51:39.778786           34660                 103  ...   \n",
              "\n",
              "          Active Std   Active Max   Active Min  Idle Mean       Idle Std  \\\n",
              "0           0.000000          0.0          0.0        0.0       0.000000   \n",
              "1           0.000000          0.0          0.0        0.0       0.000000   \n",
              "2           0.000000          0.0          0.0        0.0       0.000000   \n",
              "3           0.000000          0.0          0.0        0.0       0.000000   \n",
              "4           2.466441         15.0          6.0  9527428.0  248706.681286   \n",
              "...              ...          ...          ...        ...            ...   \n",
              "1217002     0.000000          0.0          0.0        0.0       0.000000   \n",
              "1217003     0.000000          0.0          0.0        0.0       0.000000   \n",
              "1217004     0.000000          0.0          0.0        0.0       0.000000   \n",
              "1217005     0.000000          0.0          0.0        0.0       0.000000   \n",
              "1217006     0.000000          0.0          0.0        0.0       0.000000   \n",
              "\n",
              "          Idle Max   Idle Min          SimillarHTTP   Inbound      Label  \n",
              "0              0.0        0.0  205.174.165.72/c.php         1  DrDoS_NTP  \n",
              "1              0.0        0.0                     0         1  DrDoS_NTP  \n",
              "2              0.0        0.0                     0         1     BENIGN  \n",
              "3              0.0        0.0                     0         1     BENIGN  \n",
              "4        9950741.0  9092248.0                     0         0     BENIGN  \n",
              "...            ...        ...                   ...       ...        ...  \n",
              "1217002        0.0        0.0                     0         1  DrDoS_NTP  \n",
              "1217003        0.0        0.0                     0         1  DrDoS_NTP  \n",
              "1217004        0.0        0.0                     0         1  DrDoS_NTP  \n",
              "1217005        0.0        0.0                     0         1  DrDoS_NTP  \n",
              "1217006        0.0        0.0                     0         1  DrDoS_NTP  \n",
              "\n",
              "[1209961 rows x 88 columns]"
            ]
          },
          "execution_count": 12,
          "metadata": {},
          "output_type": "execute_result"
        }
      ],
      "source": [
        "data_df"
      ]
    },
    {
      "cell_type": "code",
      "execution_count": null,
      "metadata": {
        "id": "y6gtCage9-bj"
      },
      "outputs": [],
      "source": [
        "data_X = data_df.drop([' Label', 'SimillarHTTP'], axis = 1)"
      ]
    },
    {
      "cell_type": "code",
      "execution_count": null,
      "metadata": {
        "colab": {
          "base_uri": "https://localhost:8080/"
        },
        "id": "0sRUz1GSBIhF",
        "outputId": "553d811d-bf53-4563-e291-4e0103f164ea"
      },
      "outputs": [
        {
          "data": {
            "text/plain": [
              "Index(['Unnamed: 0', 'Flow ID', ' Source IP', ' Source Port',\n",
              "       ' Destination IP', ' Destination Port', ' Protocol', ' Timestamp',\n",
              "       ' Flow Duration', ' Total Fwd Packets', ' Total Backward Packets',\n",
              "       'Total Length of Fwd Packets', ' Total Length of Bwd Packets',\n",
              "       ' Fwd Packet Length Max', ' Fwd Packet Length Min',\n",
              "       ' Fwd Packet Length Mean', ' Fwd Packet Length Std',\n",
              "       'Bwd Packet Length Max', ' Bwd Packet Length Min',\n",
              "       ' Bwd Packet Length Mean', ' Bwd Packet Length Std', 'Flow Bytes/s',\n",
              "       ' Flow Packets/s', ' Flow IAT Mean', ' Flow IAT Std', ' Flow IAT Max',\n",
              "       ' Flow IAT Min', 'Fwd IAT Total', ' Fwd IAT Mean', ' Fwd IAT Std',\n",
              "       ' Fwd IAT Max', ' Fwd IAT Min', 'Bwd IAT Total', ' Bwd IAT Mean',\n",
              "       ' Bwd IAT Std', ' Bwd IAT Max', ' Bwd IAT Min', 'Fwd PSH Flags',\n",
              "       ' Bwd PSH Flags', ' Fwd URG Flags', ' Bwd URG Flags',\n",
              "       ' Fwd Header Length', ' Bwd Header Length', 'Fwd Packets/s',\n",
              "       ' Bwd Packets/s', ' Min Packet Length', ' Max Packet Length',\n",
              "       ' Packet Length Mean', ' Packet Length Std', ' Packet Length Variance',\n",
              "       'FIN Flag Count', ' SYN Flag Count', ' RST Flag Count',\n",
              "       ' PSH Flag Count', ' ACK Flag Count', ' URG Flag Count',\n",
              "       ' CWE Flag Count', ' ECE Flag Count', ' Down/Up Ratio',\n",
              "       ' Average Packet Size', ' Avg Fwd Segment Size',\n",
              "       ' Avg Bwd Segment Size', ' Fwd Header Length.1', 'Fwd Avg Bytes/Bulk',\n",
              "       ' Fwd Avg Packets/Bulk', ' Fwd Avg Bulk Rate', ' Bwd Avg Bytes/Bulk',\n",
              "       ' Bwd Avg Packets/Bulk', 'Bwd Avg Bulk Rate', 'Subflow Fwd Packets',\n",
              "       ' Subflow Fwd Bytes', ' Subflow Bwd Packets', ' Subflow Bwd Bytes',\n",
              "       'Init_Win_bytes_forward', ' Init_Win_bytes_backward',\n",
              "       ' act_data_pkt_fwd', ' min_seg_size_forward', 'Active Mean',\n",
              "       ' Active Std', ' Active Max', ' Active Min', 'Idle Mean', ' Idle Std',\n",
              "       ' Idle Max', ' Idle Min', ' Inbound'],\n",
              "      dtype='object')"
            ]
          },
          "execution_count": 14,
          "metadata": {},
          "output_type": "execute_result"
        }
      ],
      "source": [
        "data_X.columns"
      ]
    },
    {
      "cell_type": "code",
      "execution_count": null,
      "metadata": {
        "colab": {
          "base_uri": "https://localhost:8080/"
        },
        "id": "EVyynHH8BJrL",
        "outputId": "838cdfdb-22ce-4207-822d-6aa3a5a598bf"
      },
      "outputs": [
        {
          "data": {
            "text/plain": [
              "(1209961, 86)"
            ]
          },
          "execution_count": 15,
          "metadata": {},
          "output_type": "execute_result"
        }
      ],
      "source": [
        "data_X.shape"
      ]
    },
    {
      "cell_type": "code",
      "execution_count": null,
      "metadata": {
        "id": "HZJtKcuZBNJk"
      },
      "outputs": [],
      "source": [
        "data_y = data_df[' Label']"
      ]
    },
    {
      "cell_type": "code",
      "execution_count": null,
      "metadata": {
        "colab": {
          "base_uri": "https://localhost:8080/"
        },
        "id": "wEHrmIFfBQdm",
        "outputId": "0054c382-f769-4368-adde-d00c04d8e709"
      },
      "outputs": [
        {
          "data": {
            "text/plain": [
              "(1209961,)"
            ]
          },
          "execution_count": 17,
          "metadata": {},
          "output_type": "execute_result"
        }
      ],
      "source": [
        "data_y.shape"
      ]
    },
    {
      "cell_type": "code",
      "execution_count": null,
      "metadata": {
        "colab": {
          "base_uri": "https://localhost:8080/"
        },
        "id": "0O4xhpnCBSR6",
        "outputId": "c42f36b0-7ea6-4d91-b9a4-feed6e6f24fc"
      },
      "outputs": [
        {
          "data": {
            "text/plain": [
              "0"
            ]
          },
          "execution_count": 18,
          "metadata": {},
          "output_type": "execute_result"
        }
      ],
      "source": [
        "data_df.isnull().sum().sum()"
      ]
    },
    {
      "cell_type": "code",
      "execution_count": null,
      "metadata": {
        "colab": {
          "base_uri": "https://localhost:8080/"
        },
        "id": "ZiIu-ASCBUTU",
        "outputId": "7182a782-2123-4e42-dcdb-25df3d342a6b"
      },
      "outputs": [
        {
          "data": {
            "text/plain": [
              "array(['DrDoS_NTP', 'BENIGN'], dtype=object)"
            ]
          },
          "execution_count": 19,
          "metadata": {},
          "output_type": "execute_result"
        }
      ],
      "source": [
        "data_y.unique()"
      ]
    },
    {
      "cell_type": "code",
      "execution_count": null,
      "metadata": {
        "colab": {
          "base_uri": "https://localhost:8080/",
          "height": 852
        },
        "id": "gyqs4kkZBWyC",
        "outputId": "65ab311d-5967-44a1-b3ca-ddd53fefd619"
      },
      "outputs": [
        {
          "data": {
            "text/html": [
              "\n",
              "  <div id=\"df-0cf5735a-ae27-48bf-b711-9731fc8b040e\">\n",
              "    <div class=\"colab-df-container\">\n",
              "      <div>\n",
              "<style scoped>\n",
              "    .dataframe tbody tr th:only-of-type {\n",
              "        vertical-align: middle;\n",
              "    }\n",
              "\n",
              "    .dataframe tbody tr th {\n",
              "        vertical-align: top;\n",
              "    }\n",
              "\n",
              "    .dataframe thead th {\n",
              "        text-align: right;\n",
              "    }\n",
              "</style>\n",
              "<table border=\"1\" class=\"dataframe\">\n",
              "  <thead>\n",
              "    <tr style=\"text-align: right;\">\n",
              "      <th></th>\n",
              "      <th>Unnamed: 0</th>\n",
              "      <th>Flow ID</th>\n",
              "      <th>Source IP</th>\n",
              "      <th>Source Port</th>\n",
              "      <th>Destination IP</th>\n",
              "      <th>Destination Port</th>\n",
              "      <th>Protocol</th>\n",
              "      <th>Timestamp</th>\n",
              "      <th>Flow Duration</th>\n",
              "      <th>Total Fwd Packets</th>\n",
              "      <th>...</th>\n",
              "      <th>min_seg_size_forward</th>\n",
              "      <th>Active Mean</th>\n",
              "      <th>Active Std</th>\n",
              "      <th>Active Max</th>\n",
              "      <th>Active Min</th>\n",
              "      <th>Idle Mean</th>\n",
              "      <th>Idle Std</th>\n",
              "      <th>Idle Max</th>\n",
              "      <th>Idle Min</th>\n",
              "      <th>Inbound</th>\n",
              "    </tr>\n",
              "  </thead>\n",
              "  <tbody>\n",
              "    <tr>\n",
              "      <th>0</th>\n",
              "      <td>0</td>\n",
              "      <td>172.16.0.5-192.168.50.1-60675-80-6</td>\n",
              "      <td>172.16.0.5</td>\n",
              "      <td>60675</td>\n",
              "      <td>192.168.50.1</td>\n",
              "      <td>80</td>\n",
              "      <td>6</td>\n",
              "      <td>2018-12-01 09:17:11.183810</td>\n",
              "      <td>5220876</td>\n",
              "      <td>12</td>\n",
              "      <td>...</td>\n",
              "      <td>32</td>\n",
              "      <td>0.000000</td>\n",
              "      <td>0.000000</td>\n",
              "      <td>0.0</td>\n",
              "      <td>0.0</td>\n",
              "      <td>0.0</td>\n",
              "      <td>0.000000</td>\n",
              "      <td>0.0</td>\n",
              "      <td>0.0</td>\n",
              "      <td>1</td>\n",
              "    </tr>\n",
              "    <tr>\n",
              "      <th>1</th>\n",
              "      <td>7</td>\n",
              "      <td>172.16.0.5-192.168.50.1-60676-80-6</td>\n",
              "      <td>172.16.0.5</td>\n",
              "      <td>60676</td>\n",
              "      <td>192.168.50.1</td>\n",
              "      <td>80</td>\n",
              "      <td>6</td>\n",
              "      <td>2018-12-01 09:17:11.205636</td>\n",
              "      <td>12644252</td>\n",
              "      <td>5</td>\n",
              "      <td>...</td>\n",
              "      <td>32</td>\n",
              "      <td>0.000000</td>\n",
              "      <td>0.000000</td>\n",
              "      <td>0.0</td>\n",
              "      <td>0.0</td>\n",
              "      <td>0.0</td>\n",
              "      <td>0.000000</td>\n",
              "      <td>0.0</td>\n",
              "      <td>0.0</td>\n",
              "      <td>1</td>\n",
              "    </tr>\n",
              "    <tr>\n",
              "      <th>2</th>\n",
              "      <td>12858</td>\n",
              "      <td>192.168.50.7-65.55.163.78-50458-443-6</td>\n",
              "      <td>65.55.163.78</td>\n",
              "      <td>443</td>\n",
              "      <td>192.168.50.7</td>\n",
              "      <td>50458</td>\n",
              "      <td>6</td>\n",
              "      <td>2018-12-01 09:17:12.634569</td>\n",
              "      <td>3</td>\n",
              "      <td>2</td>\n",
              "      <td>...</td>\n",
              "      <td>20</td>\n",
              "      <td>0.000000</td>\n",
              "      <td>0.000000</td>\n",
              "      <td>0.0</td>\n",
              "      <td>0.0</td>\n",
              "      <td>0.0</td>\n",
              "      <td>0.000000</td>\n",
              "      <td>0.0</td>\n",
              "      <td>0.0</td>\n",
              "      <td>1</td>\n",
              "    </tr>\n",
              "    <tr>\n",
              "      <th>3</th>\n",
              "      <td>10191</td>\n",
              "      <td>192.168.50.7-65.55.163.78-50465-443-6</td>\n",
              "      <td>65.55.163.78</td>\n",
              "      <td>443</td>\n",
              "      <td>192.168.50.7</td>\n",
              "      <td>50465</td>\n",
              "      <td>6</td>\n",
              "      <td>2018-12-01 09:17:13.458370</td>\n",
              "      <td>3</td>\n",
              "      <td>2</td>\n",
              "      <td>...</td>\n",
              "      <td>20</td>\n",
              "      <td>0.000000</td>\n",
              "      <td>0.000000</td>\n",
              "      <td>0.0</td>\n",
              "      <td>0.0</td>\n",
              "      <td>0.0</td>\n",
              "      <td>0.000000</td>\n",
              "      <td>0.0</td>\n",
              "      <td>0.0</td>\n",
              "      <td>1</td>\n",
              "    </tr>\n",
              "    <tr>\n",
              "      <th>4</th>\n",
              "      <td>239</td>\n",
              "      <td>192.168.50.253-224.0.0.5-0-0-0</td>\n",
              "      <td>192.168.50.253</td>\n",
              "      <td>0</td>\n",
              "      <td>224.0.0.5</td>\n",
              "      <td>0</td>\n",
              "      <td>0</td>\n",
              "      <td>2018-12-01 09:17:13.470913</td>\n",
              "      <td>114329232</td>\n",
              "      <td>52</td>\n",
              "      <td>...</td>\n",
              "      <td>0</td>\n",
              "      <td>7.416667</td>\n",
              "      <td>2.466441</td>\n",
              "      <td>15.0</td>\n",
              "      <td>6.0</td>\n",
              "      <td>9527428.0</td>\n",
              "      <td>248706.681286</td>\n",
              "      <td>9950741.0</td>\n",
              "      <td>9092248.0</td>\n",
              "      <td>0</td>\n",
              "    </tr>\n",
              "    <tr>\n",
              "      <th>...</th>\n",
              "      <td>...</td>\n",
              "      <td>...</td>\n",
              "      <td>...</td>\n",
              "      <td>...</td>\n",
              "      <td>...</td>\n",
              "      <td>...</td>\n",
              "      <td>...</td>\n",
              "      <td>...</td>\n",
              "      <td>...</td>\n",
              "      <td>...</td>\n",
              "      <td>...</td>\n",
              "      <td>...</td>\n",
              "      <td>...</td>\n",
              "      <td>...</td>\n",
              "      <td>...</td>\n",
              "      <td>...</td>\n",
              "      <td>...</td>\n",
              "      <td>...</td>\n",
              "      <td>...</td>\n",
              "      <td>...</td>\n",
              "      <td>...</td>\n",
              "    </tr>\n",
              "    <tr>\n",
              "      <th>1217002</th>\n",
              "      <td>2414</td>\n",
              "      <td>172.16.0.5-192.168.50.1-634-63125-17</td>\n",
              "      <td>172.16.0.5</td>\n",
              "      <td>634</td>\n",
              "      <td>192.168.50.1</td>\n",
              "      <td>63125</td>\n",
              "      <td>17</td>\n",
              "      <td>2018-12-01 10:51:39.600556</td>\n",
              "      <td>37146</td>\n",
              "      <td>200</td>\n",
              "      <td>...</td>\n",
              "      <td>20</td>\n",
              "      <td>0.000000</td>\n",
              "      <td>0.000000</td>\n",
              "      <td>0.0</td>\n",
              "      <td>0.0</td>\n",
              "      <td>0.0</td>\n",
              "      <td>0.000000</td>\n",
              "      <td>0.0</td>\n",
              "      <td>0.0</td>\n",
              "      <td>1</td>\n",
              "    </tr>\n",
              "    <tr>\n",
              "      <th>1217003</th>\n",
              "      <td>1506</td>\n",
              "      <td>172.16.0.5-192.168.50.1-634-12431-17</td>\n",
              "      <td>172.16.0.5</td>\n",
              "      <td>634</td>\n",
              "      <td>192.168.50.1</td>\n",
              "      <td>12431</td>\n",
              "      <td>17</td>\n",
              "      <td>2018-12-01 10:51:39.635018</td>\n",
              "      <td>42011</td>\n",
              "      <td>200</td>\n",
              "      <td>...</td>\n",
              "      <td>20</td>\n",
              "      <td>0.000000</td>\n",
              "      <td>0.000000</td>\n",
              "      <td>0.0</td>\n",
              "      <td>0.0</td>\n",
              "      <td>0.0</td>\n",
              "      <td>0.000000</td>\n",
              "      <td>0.0</td>\n",
              "      <td>0.0</td>\n",
              "      <td>1</td>\n",
              "    </tr>\n",
              "    <tr>\n",
              "      <th>1217004</th>\n",
              "      <td>195</td>\n",
              "      <td>172.16.0.5-192.168.50.1-634-881-17</td>\n",
              "      <td>172.16.0.5</td>\n",
              "      <td>634</td>\n",
              "      <td>192.168.50.1</td>\n",
              "      <td>881</td>\n",
              "      <td>17</td>\n",
              "      <td>2018-12-01 10:51:39.685553</td>\n",
              "      <td>40375</td>\n",
              "      <td>200</td>\n",
              "      <td>...</td>\n",
              "      <td>20</td>\n",
              "      <td>0.000000</td>\n",
              "      <td>0.000000</td>\n",
              "      <td>0.0</td>\n",
              "      <td>0.0</td>\n",
              "      <td>0.0</td>\n",
              "      <td>0.000000</td>\n",
              "      <td>0.0</td>\n",
              "      <td>0.0</td>\n",
              "      <td>1</td>\n",
              "    </tr>\n",
              "    <tr>\n",
              "      <th>1217005</th>\n",
              "      <td>266</td>\n",
              "      <td>172.16.0.5-192.168.50.1-634-7051-17</td>\n",
              "      <td>172.16.0.5</td>\n",
              "      <td>634</td>\n",
              "      <td>192.168.50.1</td>\n",
              "      <td>7051</td>\n",
              "      <td>17</td>\n",
              "      <td>2018-12-01 10:51:39.721301</td>\n",
              "      <td>59116</td>\n",
              "      <td>200</td>\n",
              "      <td>...</td>\n",
              "      <td>20</td>\n",
              "      <td>0.000000</td>\n",
              "      <td>0.000000</td>\n",
              "      <td>0.0</td>\n",
              "      <td>0.0</td>\n",
              "      <td>0.0</td>\n",
              "      <td>0.000000</td>\n",
              "      <td>0.0</td>\n",
              "      <td>0.0</td>\n",
              "      <td>1</td>\n",
              "    </tr>\n",
              "    <tr>\n",
              "      <th>1217006</th>\n",
              "      <td>508</td>\n",
              "      <td>172.16.0.5-192.168.50.1-634-60495-17</td>\n",
              "      <td>172.16.0.5</td>\n",
              "      <td>634</td>\n",
              "      <td>192.168.50.1</td>\n",
              "      <td>60495</td>\n",
              "      <td>17</td>\n",
              "      <td>2018-12-01 10:51:39.778786</td>\n",
              "      <td>34660</td>\n",
              "      <td>103</td>\n",
              "      <td>...</td>\n",
              "      <td>20</td>\n",
              "      <td>0.000000</td>\n",
              "      <td>0.000000</td>\n",
              "      <td>0.0</td>\n",
              "      <td>0.0</td>\n",
              "      <td>0.0</td>\n",
              "      <td>0.000000</td>\n",
              "      <td>0.0</td>\n",
              "      <td>0.0</td>\n",
              "      <td>1</td>\n",
              "    </tr>\n",
              "  </tbody>\n",
              "</table>\n",
              "<p>1209961 rows × 86 columns</p>\n",
              "</div>\n",
              "      <button class=\"colab-df-convert\" onclick=\"convertToInteractive('df-0cf5735a-ae27-48bf-b711-9731fc8b040e')\"\n",
              "              title=\"Convert this dataframe to an interactive table.\"\n",
              "              style=\"display:none;\">\n",
              "        \n",
              "  <svg xmlns=\"http://www.w3.org/2000/svg\" height=\"24px\"viewBox=\"0 0 24 24\"\n",
              "       width=\"24px\">\n",
              "    <path d=\"M0 0h24v24H0V0z\" fill=\"none\"/>\n",
              "    <path d=\"M18.56 5.44l.94 2.06.94-2.06 2.06-.94-2.06-.94-.94-2.06-.94 2.06-2.06.94zm-11 1L8.5 8.5l.94-2.06 2.06-.94-2.06-.94L8.5 2.5l-.94 2.06-2.06.94zm10 10l.94 2.06.94-2.06 2.06-.94-2.06-.94-.94-2.06-.94 2.06-2.06.94z\"/><path d=\"M17.41 7.96l-1.37-1.37c-.4-.4-.92-.59-1.43-.59-.52 0-1.04.2-1.43.59L10.3 9.45l-7.72 7.72c-.78.78-.78 2.05 0 2.83L4 21.41c.39.39.9.59 1.41.59.51 0 1.02-.2 1.41-.59l7.78-7.78 2.81-2.81c.8-.78.8-2.07 0-2.86zM5.41 20L4 18.59l7.72-7.72 1.47 1.35L5.41 20z\"/>\n",
              "  </svg>\n",
              "      </button>\n",
              "      \n",
              "  <style>\n",
              "    .colab-df-container {\n",
              "      display:flex;\n",
              "      flex-wrap:wrap;\n",
              "      gap: 12px;\n",
              "    }\n",
              "\n",
              "    .colab-df-convert {\n",
              "      background-color: #E8F0FE;\n",
              "      border: none;\n",
              "      border-radius: 50%;\n",
              "      cursor: pointer;\n",
              "      display: none;\n",
              "      fill: #1967D2;\n",
              "      height: 32px;\n",
              "      padding: 0 0 0 0;\n",
              "      width: 32px;\n",
              "    }\n",
              "\n",
              "    .colab-df-convert:hover {\n",
              "      background-color: #E2EBFA;\n",
              "      box-shadow: 0px 1px 2px rgba(60, 64, 67, 0.3), 0px 1px 3px 1px rgba(60, 64, 67, 0.15);\n",
              "      fill: #174EA6;\n",
              "    }\n",
              "\n",
              "    [theme=dark] .colab-df-convert {\n",
              "      background-color: #3B4455;\n",
              "      fill: #D2E3FC;\n",
              "    }\n",
              "\n",
              "    [theme=dark] .colab-df-convert:hover {\n",
              "      background-color: #434B5C;\n",
              "      box-shadow: 0px 1px 3px 1px rgba(0, 0, 0, 0.15);\n",
              "      filter: drop-shadow(0px 1px 2px rgba(0, 0, 0, 0.3));\n",
              "      fill: #FFFFFF;\n",
              "    }\n",
              "  </style>\n",
              "\n",
              "      <script>\n",
              "        const buttonEl =\n",
              "          document.querySelector('#df-0cf5735a-ae27-48bf-b711-9731fc8b040e button.colab-df-convert');\n",
              "        buttonEl.style.display =\n",
              "          google.colab.kernel.accessAllowed ? 'block' : 'none';\n",
              "\n",
              "        async function convertToInteractive(key) {\n",
              "          const element = document.querySelector('#df-0cf5735a-ae27-48bf-b711-9731fc8b040e');\n",
              "          const dataTable =\n",
              "            await google.colab.kernel.invokeFunction('convertToInteractive',\n",
              "                                                     [key], {});\n",
              "          if (!dataTable) return;\n",
              "\n",
              "          const docLinkHtml = 'Like what you see? Visit the ' +\n",
              "            '<a target=\"_blank\" href=https://colab.research.google.com/notebooks/data_table.ipynb>data table notebook</a>'\n",
              "            + ' to learn more about interactive tables.';\n",
              "          element.innerHTML = '';\n",
              "          dataTable['output_type'] = 'display_data';\n",
              "          await google.colab.output.renderOutput(dataTable, element);\n",
              "          const docLink = document.createElement('div');\n",
              "          docLink.innerHTML = docLinkHtml;\n",
              "          element.appendChild(docLink);\n",
              "        }\n",
              "      </script>\n",
              "    </div>\n",
              "  </div>\n",
              "  "
            ],
            "text/plain": [
              "         Unnamed: 0                                Flow ID       Source IP  \\\n",
              "0                 0     172.16.0.5-192.168.50.1-60675-80-6      172.16.0.5   \n",
              "1                 7     172.16.0.5-192.168.50.1-60676-80-6      172.16.0.5   \n",
              "2             12858  192.168.50.7-65.55.163.78-50458-443-6    65.55.163.78   \n",
              "3             10191  192.168.50.7-65.55.163.78-50465-443-6    65.55.163.78   \n",
              "4               239         192.168.50.253-224.0.0.5-0-0-0  192.168.50.253   \n",
              "...             ...                                    ...             ...   \n",
              "1217002        2414   172.16.0.5-192.168.50.1-634-63125-17      172.16.0.5   \n",
              "1217003        1506   172.16.0.5-192.168.50.1-634-12431-17      172.16.0.5   \n",
              "1217004         195     172.16.0.5-192.168.50.1-634-881-17      172.16.0.5   \n",
              "1217005         266    172.16.0.5-192.168.50.1-634-7051-17      172.16.0.5   \n",
              "1217006         508   172.16.0.5-192.168.50.1-634-60495-17      172.16.0.5   \n",
              "\n",
              "          Source Port  Destination IP   Destination Port   Protocol  \\\n",
              "0               60675    192.168.50.1                 80          6   \n",
              "1               60676    192.168.50.1                 80          6   \n",
              "2                 443    192.168.50.7              50458          6   \n",
              "3                 443    192.168.50.7              50465          6   \n",
              "4                   0       224.0.0.5                  0          0   \n",
              "...               ...             ...                ...        ...   \n",
              "1217002           634    192.168.50.1              63125         17   \n",
              "1217003           634    192.168.50.1              12431         17   \n",
              "1217004           634    192.168.50.1                881         17   \n",
              "1217005           634    192.168.50.1               7051         17   \n",
              "1217006           634    192.168.50.1              60495         17   \n",
              "\n",
              "                          Timestamp   Flow Duration   Total Fwd Packets  ...  \\\n",
              "0        2018-12-01 09:17:11.183810         5220876                  12  ...   \n",
              "1        2018-12-01 09:17:11.205636        12644252                   5  ...   \n",
              "2        2018-12-01 09:17:12.634569               3                   2  ...   \n",
              "3        2018-12-01 09:17:13.458370               3                   2  ...   \n",
              "4        2018-12-01 09:17:13.470913       114329232                  52  ...   \n",
              "...                             ...             ...                 ...  ...   \n",
              "1217002  2018-12-01 10:51:39.600556           37146                 200  ...   \n",
              "1217003  2018-12-01 10:51:39.635018           42011                 200  ...   \n",
              "1217004  2018-12-01 10:51:39.685553           40375                 200  ...   \n",
              "1217005  2018-12-01 10:51:39.721301           59116                 200  ...   \n",
              "1217006  2018-12-01 10:51:39.778786           34660                 103  ...   \n",
              "\n",
              "          min_seg_size_forward  Active Mean   Active Std   Active Max  \\\n",
              "0                           32     0.000000     0.000000          0.0   \n",
              "1                           32     0.000000     0.000000          0.0   \n",
              "2                           20     0.000000     0.000000          0.0   \n",
              "3                           20     0.000000     0.000000          0.0   \n",
              "4                            0     7.416667     2.466441         15.0   \n",
              "...                        ...          ...          ...          ...   \n",
              "1217002                     20     0.000000     0.000000          0.0   \n",
              "1217003                     20     0.000000     0.000000          0.0   \n",
              "1217004                     20     0.000000     0.000000          0.0   \n",
              "1217005                     20     0.000000     0.000000          0.0   \n",
              "1217006                     20     0.000000     0.000000          0.0   \n",
              "\n",
              "          Active Min  Idle Mean       Idle Std   Idle Max   Idle Min   Inbound  \n",
              "0                0.0        0.0       0.000000        0.0        0.0         1  \n",
              "1                0.0        0.0       0.000000        0.0        0.0         1  \n",
              "2                0.0        0.0       0.000000        0.0        0.0         1  \n",
              "3                0.0        0.0       0.000000        0.0        0.0         1  \n",
              "4                6.0  9527428.0  248706.681286  9950741.0  9092248.0         0  \n",
              "...              ...        ...            ...        ...        ...       ...  \n",
              "1217002          0.0        0.0       0.000000        0.0        0.0         1  \n",
              "1217003          0.0        0.0       0.000000        0.0        0.0         1  \n",
              "1217004          0.0        0.0       0.000000        0.0        0.0         1  \n",
              "1217005          0.0        0.0       0.000000        0.0        0.0         1  \n",
              "1217006          0.0        0.0       0.000000        0.0        0.0         1  \n",
              "\n",
              "[1209961 rows x 86 columns]"
            ]
          },
          "execution_count": 20,
          "metadata": {},
          "output_type": "execute_result"
        }
      ],
      "source": [
        "data_X"
      ]
    },
    {
      "cell_type": "code",
      "execution_count": null,
      "metadata": {
        "id": "7v7foGT9BZp1"
      },
      "outputs": [],
      "source": [
        "from sklearn.preprocessing import LabelEncoder\n"
      ]
    },
    {
      "cell_type": "code",
      "execution_count": null,
      "metadata": {
        "id": "OwkuNmJ6BdFV"
      },
      "outputs": [],
      "source": [
        "le = LabelEncoder()"
      ]
    },
    {
      "cell_type": "code",
      "execution_count": null,
      "metadata": {
        "id": "imEFigRQBe0f"
      },
      "outputs": [],
      "source": [
        "data_y_trans = le.fit_transform(data_y)"
      ]
    },
    {
      "cell_type": "code",
      "execution_count": null,
      "metadata": {
        "colab": {
          "base_uri": "https://localhost:8080/"
        },
        "id": "RW4dVPMPBiAx",
        "outputId": "5e0dc697-c190-422e-aaec-e0a66186603c"
      },
      "outputs": [
        {
          "data": {
            "text/plain": [
              "array([1, 1, 0, ..., 1, 1, 1])"
            ]
          },
          "execution_count": 24,
          "metadata": {},
          "output_type": "execute_result"
        }
      ],
      "source": [
        "data_y_trans"
      ]
    },
    {
      "cell_type": "code",
      "execution_count": null,
      "metadata": {
        "id": "PtBwk6anBj4Z"
      },
      "outputs": [],
      "source": [
        "le_fid = LabelEncoder()"
      ]
    },
    {
      "cell_type": "code",
      "execution_count": null,
      "metadata": {
        "id": "sYQwS-SQBlgu"
      },
      "outputs": [],
      "source": [
        "le_fid.fit(data_X['Flow ID'])\n",
        "data_X['Flow ID'] = le_fid.fit_transform(data_X['Flow ID'])"
      ]
    },
    {
      "cell_type": "code",
      "execution_count": null,
      "metadata": {
        "id": "yUFkhlaFBt07"
      },
      "outputs": [],
      "source": [
        "le_SIP = LabelEncoder()"
      ]
    },
    {
      "cell_type": "code",
      "execution_count": null,
      "metadata": {
        "id": "BQQRiEpLBwNV"
      },
      "outputs": [],
      "source": [
        "le_SIP.fit(data_X[' Source IP'])\n",
        "data_X[' Source IP'] = le_SIP.fit_transform(data_X[' Source IP'])"
      ]
    },
    {
      "cell_type": "code",
      "execution_count": null,
      "metadata": {
        "id": "tZvhX0zpBz8r"
      },
      "outputs": [],
      "source": [
        "le_DIP = LabelEncoder()"
      ]
    },
    {
      "cell_type": "code",
      "execution_count": null,
      "metadata": {
        "id": "PRnu7hauB3QL"
      },
      "outputs": [],
      "source": [
        "le_DIP.fit(data_X[' Destination IP'])\n",
        "data_X[' Destination IP'] = le_DIP.fit_transform(data_X[' Destination IP'])"
      ]
    },
    {
      "cell_type": "code",
      "execution_count": null,
      "metadata": {
        "id": "2F3Isr-KB55F"
      },
      "outputs": [],
      "source": [
        "le_timestamp = LabelEncoder()\n",
        "le_timestamp.fit(data_X[' Timestamp'])\n",
        "data_X[' Timestamp'] = le_timestamp.fit_transform(data_X[' Timestamp'])"
      ]
    },
    {
      "cell_type": "code",
      "execution_count": null,
      "metadata": {
        "colab": {
          "base_uri": "https://localhost:8080/",
          "height": 522
        },
        "id": "Sr-xU6ENCA6H",
        "outputId": "d18a0597-02f6-43c5-d15f-5a5dea27e63d"
      },
      "outputs": [
        {
          "data": {
            "text/html": [
              "\n",
              "  <div id=\"df-05536a5d-ca38-44fc-a893-367d0e2d45dd\">\n",
              "    <div class=\"colab-df-container\">\n",
              "      <div>\n",
              "<style scoped>\n",
              "    .dataframe tbody tr th:only-of-type {\n",
              "        vertical-align: middle;\n",
              "    }\n",
              "\n",
              "    .dataframe tbody tr th {\n",
              "        vertical-align: top;\n",
              "    }\n",
              "\n",
              "    .dataframe thead th {\n",
              "        text-align: right;\n",
              "    }\n",
              "</style>\n",
              "<table border=\"1\" class=\"dataframe\">\n",
              "  <thead>\n",
              "    <tr style=\"text-align: right;\">\n",
              "      <th></th>\n",
              "      <th>Unnamed: 0</th>\n",
              "      <th>Flow ID</th>\n",
              "      <th>Source IP</th>\n",
              "      <th>Source Port</th>\n",
              "      <th>Destination IP</th>\n",
              "      <th>Destination Port</th>\n",
              "      <th>Protocol</th>\n",
              "      <th>Timestamp</th>\n",
              "      <th>Flow Duration</th>\n",
              "      <th>Total Fwd Packets</th>\n",
              "      <th>...</th>\n",
              "      <th>min_seg_size_forward</th>\n",
              "      <th>Active Mean</th>\n",
              "      <th>Active Std</th>\n",
              "      <th>Active Max</th>\n",
              "      <th>Active Min</th>\n",
              "      <th>Idle Mean</th>\n",
              "      <th>Idle Std</th>\n",
              "      <th>Idle Max</th>\n",
              "      <th>Idle Min</th>\n",
              "      <th>Inbound</th>\n",
              "    </tr>\n",
              "  </thead>\n",
              "  <tbody>\n",
              "    <tr>\n",
              "      <th>0</th>\n",
              "      <td>0</td>\n",
              "      <td>231073</td>\n",
              "      <td>24</td>\n",
              "      <td>60675</td>\n",
              "      <td>146</td>\n",
              "      <td>80</td>\n",
              "      <td>6</td>\n",
              "      <td>0</td>\n",
              "      <td>5220876</td>\n",
              "      <td>12</td>\n",
              "      <td>...</td>\n",
              "      <td>32</td>\n",
              "      <td>0.000000</td>\n",
              "      <td>0.000000</td>\n",
              "      <td>0.0</td>\n",
              "      <td>0.0</td>\n",
              "      <td>0.0</td>\n",
              "      <td>0.000000</td>\n",
              "      <td>0.0</td>\n",
              "      <td>0.0</td>\n",
              "      <td>1</td>\n",
              "    </tr>\n",
              "    <tr>\n",
              "      <th>1</th>\n",
              "      <td>7</td>\n",
              "      <td>231074</td>\n",
              "      <td>24</td>\n",
              "      <td>60676</td>\n",
              "      <td>146</td>\n",
              "      <td>80</td>\n",
              "      <td>6</td>\n",
              "      <td>1</td>\n",
              "      <td>12644252</td>\n",
              "      <td>5</td>\n",
              "      <td>...</td>\n",
              "      <td>32</td>\n",
              "      <td>0.000000</td>\n",
              "      <td>0.000000</td>\n",
              "      <td>0.0</td>\n",
              "      <td>0.0</td>\n",
              "      <td>0.0</td>\n",
              "      <td>0.000000</td>\n",
              "      <td>0.0</td>\n",
              "      <td>0.0</td>\n",
              "      <td>1</td>\n",
              "    </tr>\n",
              "    <tr>\n",
              "      <th>2</th>\n",
              "      <td>12858</td>\n",
              "      <td>1058416</td>\n",
              "      <td>313</td>\n",
              "      <td>443</td>\n",
              "      <td>150</td>\n",
              "      <td>50458</td>\n",
              "      <td>6</td>\n",
              "      <td>2</td>\n",
              "      <td>3</td>\n",
              "      <td>2</td>\n",
              "      <td>...</td>\n",
              "      <td>20</td>\n",
              "      <td>0.000000</td>\n",
              "      <td>0.000000</td>\n",
              "      <td>0.0</td>\n",
              "      <td>0.0</td>\n",
              "      <td>0.0</td>\n",
              "      <td>0.000000</td>\n",
              "      <td>0.0</td>\n",
              "      <td>0.0</td>\n",
              "      <td>1</td>\n",
              "    </tr>\n",
              "    <tr>\n",
              "      <th>3</th>\n",
              "      <td>10191</td>\n",
              "      <td>1058417</td>\n",
              "      <td>313</td>\n",
              "      <td>443</td>\n",
              "      <td>150</td>\n",
              "      <td>50465</td>\n",
              "      <td>6</td>\n",
              "      <td>3</td>\n",
              "      <td>3</td>\n",
              "      <td>2</td>\n",
              "      <td>...</td>\n",
              "      <td>20</td>\n",
              "      <td>0.000000</td>\n",
              "      <td>0.000000</td>\n",
              "      <td>0.0</td>\n",
              "      <td>0.0</td>\n",
              "      <td>0.0</td>\n",
              "      <td>0.000000</td>\n",
              "      <td>0.0</td>\n",
              "      <td>0.0</td>\n",
              "      <td>1</td>\n",
              "    </tr>\n",
              "    <tr>\n",
              "      <th>4</th>\n",
              "      <td>239</td>\n",
              "      <td>1054232</td>\n",
              "      <td>133</td>\n",
              "      <td>0</td>\n",
              "      <td>194</td>\n",
              "      <td>0</td>\n",
              "      <td>0</td>\n",
              "      <td>4</td>\n",
              "      <td>114329232</td>\n",
              "      <td>52</td>\n",
              "      <td>...</td>\n",
              "      <td>0</td>\n",
              "      <td>7.416667</td>\n",
              "      <td>2.466441</td>\n",
              "      <td>15.0</td>\n",
              "      <td>6.0</td>\n",
              "      <td>9527428.0</td>\n",
              "      <td>248706.681286</td>\n",
              "      <td>9950741.0</td>\n",
              "      <td>9092248.0</td>\n",
              "      <td>0</td>\n",
              "    </tr>\n",
              "    <tr>\n",
              "      <th>...</th>\n",
              "      <td>...</td>\n",
              "      <td>...</td>\n",
              "      <td>...</td>\n",
              "      <td>...</td>\n",
              "      <td>...</td>\n",
              "      <td>...</td>\n",
              "      <td>...</td>\n",
              "      <td>...</td>\n",
              "      <td>...</td>\n",
              "      <td>...</td>\n",
              "      <td>...</td>\n",
              "      <td>...</td>\n",
              "      <td>...</td>\n",
              "      <td>...</td>\n",
              "      <td>...</td>\n",
              "      <td>...</td>\n",
              "      <td>...</td>\n",
              "      <td>...</td>\n",
              "      <td>...</td>\n",
              "      <td>...</td>\n",
              "      <td>...</td>\n",
              "    </tr>\n",
              "    <tr>\n",
              "      <th>1217002</th>\n",
              "      <td>2414</td>\n",
              "      <td>342608</td>\n",
              "      <td>24</td>\n",
              "      <td>634</td>\n",
              "      <td>146</td>\n",
              "      <td>63125</td>\n",
              "      <td>17</td>\n",
              "      <td>1209555</td>\n",
              "      <td>37146</td>\n",
              "      <td>200</td>\n",
              "      <td>...</td>\n",
              "      <td>20</td>\n",
              "      <td>0.000000</td>\n",
              "      <td>0.000000</td>\n",
              "      <td>0.0</td>\n",
              "      <td>0.0</td>\n",
              "      <td>0.0</td>\n",
              "      <td>0.000000</td>\n",
              "      <td>0.0</td>\n",
              "      <td>0.0</td>\n",
              "      <td>1</td>\n",
              "    </tr>\n",
              "    <tr>\n",
              "      <th>1217003</th>\n",
              "      <td>1506</td>\n",
              "      <td>286293</td>\n",
              "      <td>24</td>\n",
              "      <td>634</td>\n",
              "      <td>146</td>\n",
              "      <td>12431</td>\n",
              "      <td>17</td>\n",
              "      <td>1209556</td>\n",
              "      <td>42011</td>\n",
              "      <td>200</td>\n",
              "      <td>...</td>\n",
              "      <td>20</td>\n",
              "      <td>0.000000</td>\n",
              "      <td>0.000000</td>\n",
              "      <td>0.0</td>\n",
              "      <td>0.0</td>\n",
              "      <td>0.0</td>\n",
              "      <td>0.000000</td>\n",
              "      <td>0.0</td>\n",
              "      <td>0.0</td>\n",
              "      <td>1</td>\n",
              "    </tr>\n",
              "    <tr>\n",
              "      <th>1217004</th>\n",
              "      <td>195</td>\n",
              "      <td>347788</td>\n",
              "      <td>24</td>\n",
              "      <td>634</td>\n",
              "      <td>146</td>\n",
              "      <td>881</td>\n",
              "      <td>17</td>\n",
              "      <td>1209557</td>\n",
              "      <td>40375</td>\n",
              "      <td>200</td>\n",
              "      <td>...</td>\n",
              "      <td>20</td>\n",
              "      <td>0.000000</td>\n",
              "      <td>0.000000</td>\n",
              "      <td>0.0</td>\n",
              "      <td>0.0</td>\n",
              "      <td>0.0</td>\n",
              "      <td>0.000000</td>\n",
              "      <td>0.0</td>\n",
              "      <td>0.0</td>\n",
              "      <td>1</td>\n",
              "    </tr>\n",
              "    <tr>\n",
              "      <th>1217005</th>\n",
              "      <td>266</td>\n",
              "      <td>345837</td>\n",
              "      <td>24</td>\n",
              "      <td>634</td>\n",
              "      <td>146</td>\n",
              "      <td>7051</td>\n",
              "      <td>17</td>\n",
              "      <td>1209558</td>\n",
              "      <td>59116</td>\n",
              "      <td>200</td>\n",
              "      <td>...</td>\n",
              "      <td>20</td>\n",
              "      <td>0.000000</td>\n",
              "      <td>0.000000</td>\n",
              "      <td>0.0</td>\n",
              "      <td>0.0</td>\n",
              "      <td>0.0</td>\n",
              "      <td>0.000000</td>\n",
              "      <td>0.0</td>\n",
              "      <td>0.0</td>\n",
              "      <td>1</td>\n",
              "    </tr>\n",
              "    <tr>\n",
              "      <th>1217006</th>\n",
              "      <td>508</td>\n",
              "      <td>339686</td>\n",
              "      <td>24</td>\n",
              "      <td>634</td>\n",
              "      <td>146</td>\n",
              "      <td>60495</td>\n",
              "      <td>17</td>\n",
              "      <td>1209559</td>\n",
              "      <td>34660</td>\n",
              "      <td>103</td>\n",
              "      <td>...</td>\n",
              "      <td>20</td>\n",
              "      <td>0.000000</td>\n",
              "      <td>0.000000</td>\n",
              "      <td>0.0</td>\n",
              "      <td>0.0</td>\n",
              "      <td>0.0</td>\n",
              "      <td>0.000000</td>\n",
              "      <td>0.0</td>\n",
              "      <td>0.0</td>\n",
              "      <td>1</td>\n",
              "    </tr>\n",
              "  </tbody>\n",
              "</table>\n",
              "<p>1209961 rows × 86 columns</p>\n",
              "</div>\n",
              "      <button class=\"colab-df-convert\" onclick=\"convertToInteractive('df-05536a5d-ca38-44fc-a893-367d0e2d45dd')\"\n",
              "              title=\"Convert this dataframe to an interactive table.\"\n",
              "              style=\"display:none;\">\n",
              "        \n",
              "  <svg xmlns=\"http://www.w3.org/2000/svg\" height=\"24px\"viewBox=\"0 0 24 24\"\n",
              "       width=\"24px\">\n",
              "    <path d=\"M0 0h24v24H0V0z\" fill=\"none\"/>\n",
              "    <path d=\"M18.56 5.44l.94 2.06.94-2.06 2.06-.94-2.06-.94-.94-2.06-.94 2.06-2.06.94zm-11 1L8.5 8.5l.94-2.06 2.06-.94-2.06-.94L8.5 2.5l-.94 2.06-2.06.94zm10 10l.94 2.06.94-2.06 2.06-.94-2.06-.94-.94-2.06-.94 2.06-2.06.94z\"/><path d=\"M17.41 7.96l-1.37-1.37c-.4-.4-.92-.59-1.43-.59-.52 0-1.04.2-1.43.59L10.3 9.45l-7.72 7.72c-.78.78-.78 2.05 0 2.83L4 21.41c.39.39.9.59 1.41.59.51 0 1.02-.2 1.41-.59l7.78-7.78 2.81-2.81c.8-.78.8-2.07 0-2.86zM5.41 20L4 18.59l7.72-7.72 1.47 1.35L5.41 20z\"/>\n",
              "  </svg>\n",
              "      </button>\n",
              "      \n",
              "  <style>\n",
              "    .colab-df-container {\n",
              "      display:flex;\n",
              "      flex-wrap:wrap;\n",
              "      gap: 12px;\n",
              "    }\n",
              "\n",
              "    .colab-df-convert {\n",
              "      background-color: #E8F0FE;\n",
              "      border: none;\n",
              "      border-radius: 50%;\n",
              "      cursor: pointer;\n",
              "      display: none;\n",
              "      fill: #1967D2;\n",
              "      height: 32px;\n",
              "      padding: 0 0 0 0;\n",
              "      width: 32px;\n",
              "    }\n",
              "\n",
              "    .colab-df-convert:hover {\n",
              "      background-color: #E2EBFA;\n",
              "      box-shadow: 0px 1px 2px rgba(60, 64, 67, 0.3), 0px 1px 3px 1px rgba(60, 64, 67, 0.15);\n",
              "      fill: #174EA6;\n",
              "    }\n",
              "\n",
              "    [theme=dark] .colab-df-convert {\n",
              "      background-color: #3B4455;\n",
              "      fill: #D2E3FC;\n",
              "    }\n",
              "\n",
              "    [theme=dark] .colab-df-convert:hover {\n",
              "      background-color: #434B5C;\n",
              "      box-shadow: 0px 1px 3px 1px rgba(0, 0, 0, 0.15);\n",
              "      filter: drop-shadow(0px 1px 2px rgba(0, 0, 0, 0.3));\n",
              "      fill: #FFFFFF;\n",
              "    }\n",
              "  </style>\n",
              "\n",
              "      <script>\n",
              "        const buttonEl =\n",
              "          document.querySelector('#df-05536a5d-ca38-44fc-a893-367d0e2d45dd button.colab-df-convert');\n",
              "        buttonEl.style.display =\n",
              "          google.colab.kernel.accessAllowed ? 'block' : 'none';\n",
              "\n",
              "        async function convertToInteractive(key) {\n",
              "          const element = document.querySelector('#df-05536a5d-ca38-44fc-a893-367d0e2d45dd');\n",
              "          const dataTable =\n",
              "            await google.colab.kernel.invokeFunction('convertToInteractive',\n",
              "                                                     [key], {});\n",
              "          if (!dataTable) return;\n",
              "\n",
              "          const docLinkHtml = 'Like what you see? Visit the ' +\n",
              "            '<a target=\"_blank\" href=https://colab.research.google.com/notebooks/data_table.ipynb>data table notebook</a>'\n",
              "            + ' to learn more about interactive tables.';\n",
              "          element.innerHTML = '';\n",
              "          dataTable['output_type'] = 'display_data';\n",
              "          await google.colab.output.renderOutput(dataTable, element);\n",
              "          const docLink = document.createElement('div');\n",
              "          docLink.innerHTML = docLinkHtml;\n",
              "          element.appendChild(docLink);\n",
              "        }\n",
              "      </script>\n",
              "    </div>\n",
              "  </div>\n",
              "  "
            ],
            "text/plain": [
              "         Unnamed: 0  Flow ID   Source IP   Source Port   Destination IP  \\\n",
              "0                 0   231073          24         60675              146   \n",
              "1                 7   231074          24         60676              146   \n",
              "2             12858  1058416         313           443              150   \n",
              "3             10191  1058417         313           443              150   \n",
              "4               239  1054232         133             0              194   \n",
              "...             ...      ...         ...           ...              ...   \n",
              "1217002        2414   342608          24           634              146   \n",
              "1217003        1506   286293          24           634              146   \n",
              "1217004         195   347788          24           634              146   \n",
              "1217005         266   345837          24           634              146   \n",
              "1217006         508   339686          24           634              146   \n",
              "\n",
              "          Destination Port   Protocol   Timestamp   Flow Duration  \\\n",
              "0                       80          6           0         5220876   \n",
              "1                       80          6           1        12644252   \n",
              "2                    50458          6           2               3   \n",
              "3                    50465          6           3               3   \n",
              "4                        0          0           4       114329232   \n",
              "...                    ...        ...         ...             ...   \n",
              "1217002              63125         17     1209555           37146   \n",
              "1217003              12431         17     1209556           42011   \n",
              "1217004                881         17     1209557           40375   \n",
              "1217005               7051         17     1209558           59116   \n",
              "1217006              60495         17     1209559           34660   \n",
              "\n",
              "          Total Fwd Packets  ...   min_seg_size_forward  Active Mean  \\\n",
              "0                        12  ...                     32     0.000000   \n",
              "1                         5  ...                     32     0.000000   \n",
              "2                         2  ...                     20     0.000000   \n",
              "3                         2  ...                     20     0.000000   \n",
              "4                        52  ...                      0     7.416667   \n",
              "...                     ...  ...                    ...          ...   \n",
              "1217002                 200  ...                     20     0.000000   \n",
              "1217003                 200  ...                     20     0.000000   \n",
              "1217004                 200  ...                     20     0.000000   \n",
              "1217005                 200  ...                     20     0.000000   \n",
              "1217006                 103  ...                     20     0.000000   \n",
              "\n",
              "          Active Std   Active Max   Active Min  Idle Mean       Idle Std  \\\n",
              "0           0.000000          0.0          0.0        0.0       0.000000   \n",
              "1           0.000000          0.0          0.0        0.0       0.000000   \n",
              "2           0.000000          0.0          0.0        0.0       0.000000   \n",
              "3           0.000000          0.0          0.0        0.0       0.000000   \n",
              "4           2.466441         15.0          6.0  9527428.0  248706.681286   \n",
              "...              ...          ...          ...        ...            ...   \n",
              "1217002     0.000000          0.0          0.0        0.0       0.000000   \n",
              "1217003     0.000000          0.0          0.0        0.0       0.000000   \n",
              "1217004     0.000000          0.0          0.0        0.0       0.000000   \n",
              "1217005     0.000000          0.0          0.0        0.0       0.000000   \n",
              "1217006     0.000000          0.0          0.0        0.0       0.000000   \n",
              "\n",
              "          Idle Max   Idle Min   Inbound  \n",
              "0              0.0        0.0         1  \n",
              "1              0.0        0.0         1  \n",
              "2              0.0        0.0         1  \n",
              "3              0.0        0.0         1  \n",
              "4        9950741.0  9092248.0         0  \n",
              "...            ...        ...       ...  \n",
              "1217002        0.0        0.0         1  \n",
              "1217003        0.0        0.0         1  \n",
              "1217004        0.0        0.0         1  \n",
              "1217005        0.0        0.0         1  \n",
              "1217006        0.0        0.0         1  \n",
              "\n",
              "[1209961 rows x 86 columns]"
            ]
          },
          "execution_count": 32,
          "metadata": {},
          "output_type": "execute_result"
        }
      ],
      "source": [
        "data_X"
      ]
    },
    {
      "cell_type": "code",
      "execution_count": null,
      "metadata": {
        "colab": {
          "base_uri": "https://localhost:8080/"
        },
        "id": "ItMhh-yTCDeV",
        "outputId": "2d4de7dc-9bcc-4487-8c67-6cd33bb90332"
      },
      "outputs": [
        {
          "data": {
            "text/plain": [
              "Unnamed: 0           int64\n",
              "Flow ID              int64\n",
              " Source IP           int64\n",
              " Source Port         int64\n",
              " Destination IP      int64\n",
              "                    ...   \n",
              "Idle Mean          float64\n",
              " Idle Std          float64\n",
              " Idle Max          float64\n",
              " Idle Min          float64\n",
              " Inbound             int64\n",
              "Length: 86, dtype: object"
            ]
          },
          "execution_count": 33,
          "metadata": {},
          "output_type": "execute_result"
        }
      ],
      "source": [
        "data_X.dtypes"
      ]
    },
    {
      "cell_type": "code",
      "execution_count": null,
      "metadata": {
        "colab": {
          "base_uri": "https://localhost:8080/"
        },
        "id": "irmIrID7CIDk",
        "outputId": "8b396ca7-0fdf-465c-bbc4-68fa272507ba"
      },
      "outputs": [
        {
          "ename": "",
          "evalue": "",
          "output_type": "error",
          "traceback": [
            "\u001b[1;31mRunning cells with 'Python 3.12.5' requires the ipykernel package.\n",
            "\u001b[1;31mRun the following command to install 'ipykernel' into the Python environment. \n",
            "\u001b[1;31mCommand: '\"c:/Program Files/Python312/python.exe\" -m pip install ipykernel -U --user --force-reinstall'"
          ]
        }
      ],
      "source": [
        "from sklearn.feature_selection import chi2\n",
        "from sklearn.feature_selection import SelectKBest\n",
        "from sklearn.ensemble import ExtraTreesClassifier\n",
        "\n",
        "#selecting 20 best features\n",
        "# select_best= SelectKBest(chi2, k=20)\n",
        "# X_feat_20 = select_best.fit_transform(data_X, data_y_trans)\n",
        "# X_feat_20.shape\n",
        "\n",
        "model = ExtraTreesClassifier(random_state=42)\n",
        "model.fit(data_X, data_y_trans)"
      ]
    },
    {
      "cell_type": "code",
      "execution_count": null,
      "metadata": {
        "colab": {
          "base_uri": "https://localhost:8080/"
        },
        "id": "-S1jWbhxChA0",
        "outputId": "4f158a86-0c38-47cc-c52d-220807a08dd6"
      },
      "outputs": [
        {
          "data": {
            "text/plain": [
              "array([1.55260271e-02, 5.88207705e-02, 1.08751420e-01, 1.46074393e-01,\n",
              "       7.35381818e-02, 1.59895083e-02, 5.20031269e-02, 5.92455846e-03,\n",
              "       5.36420145e-03, 5.08474858e-04, 3.87440941e-03, 3.51303118e-04,\n",
              "       1.51505169e-04, 1.02824816e-02, 7.46204287e-03, 3.64222416e-03,\n",
              "       4.51180153e-04, 2.57088310e-03, 1.05980022e-02, 1.02131928e-02,\n",
              "       4.47707399e-04, 5.06023780e-03, 2.39796291e-03, 2.41812704e-03,\n",
              "       1.78174347e-03, 3.93480511e-03, 1.48975537e-04, 4.06865967e-03,\n",
              "       1.93209642e-04, 4.27377830e-04, 8.07695197e-04, 1.86555170e-04,\n",
              "       2.82781306e-03, 3.42594564e-04, 1.26121817e-03, 4.86980441e-04,\n",
              "       4.41853788e-05, 6.98841473e-03, 0.00000000e+00, 0.00000000e+00,\n",
              "       0.00000000e+00, 5.45888805e-04, 4.28764979e-03, 1.03773157e-03,\n",
              "       1.63988938e-03, 7.96666232e-03, 3.56005553e-03, 1.19535508e-02,\n",
              "       1.30092061e-03, 5.57652094e-04, 0.00000000e+00, 4.70492144e-05,\n",
              "       1.23780861e-02, 0.00000000e+00, 1.05517284e-02, 4.76446792e-02,\n",
              "       2.28383481e-02, 0.00000000e+00, 1.27038844e-02, 6.35565947e-03,\n",
              "       1.12642994e-02, 3.74741227e-03, 9.29877070e-04, 0.00000000e+00,\n",
              "       0.00000000e+00, 0.00000000e+00, 0.00000000e+00, 0.00000000e+00,\n",
              "       0.00000000e+00, 1.09417484e-03, 9.26878873e-04, 2.13763770e-03,\n",
              "       4.58470382e-03, 2.15972848e-02, 3.38407126e-03, 1.25176620e-03,\n",
              "       1.26349560e-02, 1.66294541e-04, 6.35507740e-05, 1.60393156e-04,\n",
              "       1.74648452e-04, 1.20517306e-03, 3.28430356e-05, 2.25623577e-03,\n",
              "       7.35363652e-04, 2.20360849e-01])"
            ]
          },
          "execution_count": 35,
          "metadata": {},
          "output_type": "execute_result"
        }
      ],
      "source": [
        "model.feature_importances_"
      ]
    },
    {
      "cell_type": "code",
      "execution_count": null,
      "metadata": {
        "colab": {
          "base_uri": "https://localhost:8080/",
          "height": 417
        },
        "id": "dop_xGv_DAev",
        "outputId": "f0a5c78b-f2d6-4aef-9fef-875e866343e0"
      },
      "outputs": [
        {
          "data": {
            "text/plain": [
              "<AxesSubplot:title={'center':'Standardised Dataset Feature Selection using ExtraTreesClassifier'}>"
            ]
          },
          "execution_count": 36,
          "metadata": {},
          "output_type": "execute_result"
        },
        {
          "data": {
            "image/png": "[encoded data removed]",
            "text/plain": [
              "<Figure size 432x288 with 1 Axes>"
            ]
          },
          "metadata": {
            "needs_background": "light"
          },
          "output_type": "display_data"
        }
      ],
      "source": [
        "feature_importance_std = pd.Series(model.feature_importances_, index=data_X.columns)\n",
        "feature_importance_std.nlargest(20).plot(kind='bar', title='Standardised Dataset Feature Selection using ExtraTreesClassifier')"
      ]
    },
    {
      "cell_type": "code",
      "execution_count": null,
      "metadata": {
        "colab": {
          "base_uri": "https://localhost:8080/"
        },
        "id": "XBKZpFGNE0aR",
        "outputId": "81cfdf36-125d-4ad5-dc20-d583d4d2c1d7"
      },
      "outputs": [
        {
          "data": {
            "text/plain": [
              "(1209961, 86)"
            ]
          },
          "execution_count": 37,
          "metadata": {},
          "output_type": "execute_result"
        }
      ],
      "source": [
        "data_X.shape"
      ]
    },
    {
      "cell_type": "code",
      "execution_count": null,
      "metadata": {
        "id": "6C9BxzVWE4V9"
      },
      "outputs": [],
      "source": [
        "data_new_20features_X = data_X[[' Timestamp', ' Source Port', ' Min Packet Length', ' Fwd Packet Length Min', 'Flow ID', ' Packet Length Mean', ' Fwd Packet Length Max', ' Average Packet Size', ' ACK Flag Count', ' Avg Fwd Segment Size', ' Fwd Packet Length Mean', 'Flow Bytes/s', ' Max Packet Length', ' Protocol', 'Fwd Packets/s', ' Flow Packets/s', 'Total Length of Fwd Packets', ' Subflow Fwd Bytes', ' Destination Port', ' act_data_pkt_fwd']]\n"
      ]
    },
    {
      "cell_type": "code",
      "execution_count": null,
      "metadata": {
        "colab": {
          "base_uri": "https://localhost:8080/",
          "height": 539
        },
        "id": "YSw-w5KEE7GE",
        "outputId": "9e06cb0f-fb39-41d3-d407-d390a01f6c46"
      },
      "outputs": [
        {
          "data": {
            "text/html": [
              "\n",
              "  <div id=\"df-594b8882-7d29-4b95-a61d-ef89aedb94d0\">\n",
              "    <div class=\"colab-df-container\">\n",
              "      <div>\n",
              "<style scoped>\n",
              "    .dataframe tbody tr th:only-of-type {\n",
              "        vertical-align: middle;\n",
              "    }\n",
              "\n",
              "    .dataframe tbody tr th {\n",
              "        vertical-align: top;\n",
              "    }\n",
              "\n",
              "    .dataframe thead th {\n",
              "        text-align: right;\n",
              "    }\n",
              "</style>\n",
              "<table border=\"1\" class=\"dataframe\">\n",
              "  <thead>\n",
              "    <tr style=\"text-align: right;\">\n",
              "      <th></th>\n",
              "      <th>Timestamp</th>\n",
              "      <th>Source Port</th>\n",
              "      <th>Min Packet Length</th>\n",
              "      <th>Fwd Packet Length Min</th>\n",
              "      <th>Flow ID</th>\n",
              "      <th>Packet Length Mean</th>\n",
              "      <th>Fwd Packet Length Max</th>\n",
              "      <th>Average Packet Size</th>\n",
              "      <th>ACK Flag Count</th>\n",
              "      <th>Avg Fwd Segment Size</th>\n",
              "      <th>Fwd Packet Length Mean</th>\n",
              "      <th>Flow Bytes/s</th>\n",
              "      <th>Max Packet Length</th>\n",
              "      <th>Protocol</th>\n",
              "      <th>Fwd Packets/s</th>\n",
              "      <th>Flow Packets/s</th>\n",
              "      <th>Total Length of Fwd Packets</th>\n",
              "      <th>Subflow Fwd Bytes</th>\n",
              "      <th>Destination Port</th>\n",
              "      <th>act_data_pkt_fwd</th>\n",
              "    </tr>\n",
              "  </thead>\n",
              "  <tbody>\n",
              "    <tr>\n",
              "      <th>0</th>\n",
              "      <td>0</td>\n",
              "      <td>60675</td>\n",
              "      <td>0.0</td>\n",
              "      <td>0.0</td>\n",
              "      <td>231073</td>\n",
              "      <td>282.636364</td>\n",
              "      <td>509.0</td>\n",
              "      <td>296.095238</td>\n",
              "      <td>1</td>\n",
              "      <td>160.666667</td>\n",
              "      <td>160.666667</td>\n",
              "      <td>1.190988e+03</td>\n",
              "      <td>1073.0</td>\n",
              "      <td>6</td>\n",
              "      <td>2.298465</td>\n",
              "      <td>4.022313</td>\n",
              "      <td>1928.0</td>\n",
              "      <td>1928</td>\n",
              "      <td>80</td>\n",
              "      <td>4</td>\n",
              "    </tr>\n",
              "    <tr>\n",
              "      <th>1</th>\n",
              "      <td>1</td>\n",
              "      <td>60676</td>\n",
              "      <td>0.0</td>\n",
              "      <td>0.0</td>\n",
              "      <td>231074</td>\n",
              "      <td>0.000000</td>\n",
              "      <td>0.0</td>\n",
              "      <td>0.000000</td>\n",
              "      <td>1</td>\n",
              "      <td>0.000000</td>\n",
              "      <td>0.000000</td>\n",
              "      <td>0.000000e+00</td>\n",
              "      <td>0.0</td>\n",
              "      <td>6</td>\n",
              "      <td>0.395437</td>\n",
              "      <td>0.553611</td>\n",
              "      <td>0.0</td>\n",
              "      <td>0</td>\n",
              "      <td>80</td>\n",
              "      <td>0</td>\n",
              "    </tr>\n",
              "    <tr>\n",
              "      <th>2</th>\n",
              "      <td>2</td>\n",
              "      <td>443</td>\n",
              "      <td>0.0</td>\n",
              "      <td>0.0</td>\n",
              "      <td>1058416</td>\n",
              "      <td>0.000000</td>\n",
              "      <td>0.0</td>\n",
              "      <td>0.000000</td>\n",
              "      <td>0</td>\n",
              "      <td>0.000000</td>\n",
              "      <td>0.000000</td>\n",
              "      <td>0.000000e+00</td>\n",
              "      <td>0.0</td>\n",
              "      <td>6</td>\n",
              "      <td>666666.666667</td>\n",
              "      <td>666666.666667</td>\n",
              "      <td>0.0</td>\n",
              "      <td>0</td>\n",
              "      <td>50458</td>\n",
              "      <td>0</td>\n",
              "    </tr>\n",
              "    <tr>\n",
              "      <th>3</th>\n",
              "      <td>3</td>\n",
              "      <td>443</td>\n",
              "      <td>0.0</td>\n",
              "      <td>0.0</td>\n",
              "      <td>1058417</td>\n",
              "      <td>0.000000</td>\n",
              "      <td>0.0</td>\n",
              "      <td>0.000000</td>\n",
              "      <td>0</td>\n",
              "      <td>0.000000</td>\n",
              "      <td>0.000000</td>\n",
              "      <td>0.000000e+00</td>\n",
              "      <td>0.0</td>\n",
              "      <td>6</td>\n",
              "      <td>666666.666667</td>\n",
              "      <td>666666.666667</td>\n",
              "      <td>0.0</td>\n",
              "      <td>0</td>\n",
              "      <td>50465</td>\n",
              "      <td>0</td>\n",
              "    </tr>\n",
              "    <tr>\n",
              "      <th>4</th>\n",
              "      <td>4</td>\n",
              "      <td>0</td>\n",
              "      <td>0.0</td>\n",
              "      <td>0.0</td>\n",
              "      <td>1054232</td>\n",
              "      <td>0.000000</td>\n",
              "      <td>0.0</td>\n",
              "      <td>0.000000</td>\n",
              "      <td>0</td>\n",
              "      <td>0.000000</td>\n",
              "      <td>0.000000</td>\n",
              "      <td>0.000000e+00</td>\n",
              "      <td>0.0</td>\n",
              "      <td>0</td>\n",
              "      <td>0.454827</td>\n",
              "      <td>0.454827</td>\n",
              "      <td>0.0</td>\n",
              "      <td>0</td>\n",
              "      <td>0</td>\n",
              "      <td>0</td>\n",
              "    </tr>\n",
              "    <tr>\n",
              "      <th>...</th>\n",
              "      <td>...</td>\n",
              "      <td>...</td>\n",
              "      <td>...</td>\n",
              "      <td>...</td>\n",
              "      <td>...</td>\n",
              "      <td>...</td>\n",
              "      <td>...</td>\n",
              "      <td>...</td>\n",
              "      <td>...</td>\n",
              "      <td>...</td>\n",
              "      <td>...</td>\n",
              "      <td>...</td>\n",
              "      <td>...</td>\n",
              "      <td>...</td>\n",
              "      <td>...</td>\n",
              "      <td>...</td>\n",
              "      <td>...</td>\n",
              "      <td>...</td>\n",
              "      <td>...</td>\n",
              "      <td>...</td>\n",
              "    </tr>\n",
              "    <tr>\n",
              "      <th>1217002</th>\n",
              "      <td>1209555</td>\n",
              "      <td>634</td>\n",
              "      <td>440.0</td>\n",
              "      <td>440.0</td>\n",
              "      <td>342608</td>\n",
              "      <td>440.000000</td>\n",
              "      <td>440.0</td>\n",
              "      <td>442.200000</td>\n",
              "      <td>0</td>\n",
              "      <td>440.000000</td>\n",
              "      <td>440.000000</td>\n",
              "      <td>2.369030e+06</td>\n",
              "      <td>440.0</td>\n",
              "      <td>17</td>\n",
              "      <td>5384.159802</td>\n",
              "      <td>5384.159802</td>\n",
              "      <td>88000.0</td>\n",
              "      <td>88000</td>\n",
              "      <td>63125</td>\n",
              "      <td>199</td>\n",
              "    </tr>\n",
              "    <tr>\n",
              "      <th>1217003</th>\n",
              "      <td>1209556</td>\n",
              "      <td>634</td>\n",
              "      <td>440.0</td>\n",
              "      <td>440.0</td>\n",
              "      <td>286293</td>\n",
              "      <td>440.000000</td>\n",
              "      <td>440.0</td>\n",
              "      <td>442.200000</td>\n",
              "      <td>0</td>\n",
              "      <td>440.000000</td>\n",
              "      <td>440.000000</td>\n",
              "      <td>2.094689e+06</td>\n",
              "      <td>440.0</td>\n",
              "      <td>17</td>\n",
              "      <td>4760.657923</td>\n",
              "      <td>4760.657923</td>\n",
              "      <td>88000.0</td>\n",
              "      <td>88000</td>\n",
              "      <td>12431</td>\n",
              "      <td>199</td>\n",
              "    </tr>\n",
              "    <tr>\n",
              "      <th>1217004</th>\n",
              "      <td>1209557</td>\n",
              "      <td>634</td>\n",
              "      <td>440.0</td>\n",
              "      <td>440.0</td>\n",
              "      <td>347788</td>\n",
              "      <td>440.000000</td>\n",
              "      <td>440.0</td>\n",
              "      <td>442.200000</td>\n",
              "      <td>0</td>\n",
              "      <td>440.000000</td>\n",
              "      <td>440.000000</td>\n",
              "      <td>2.179567e+06</td>\n",
              "      <td>440.0</td>\n",
              "      <td>17</td>\n",
              "      <td>4953.560372</td>\n",
              "      <td>4953.560372</td>\n",
              "      <td>88000.0</td>\n",
              "      <td>88000</td>\n",
              "      <td>881</td>\n",
              "      <td>199</td>\n",
              "    </tr>\n",
              "    <tr>\n",
              "      <th>1217005</th>\n",
              "      <td>1209558</td>\n",
              "      <td>634</td>\n",
              "      <td>440.0</td>\n",
              "      <td>440.0</td>\n",
              "      <td>345837</td>\n",
              "      <td>440.000000</td>\n",
              "      <td>440.0</td>\n",
              "      <td>442.200000</td>\n",
              "      <td>0</td>\n",
              "      <td>440.000000</td>\n",
              "      <td>440.000000</td>\n",
              "      <td>1.488599e+06</td>\n",
              "      <td>440.0</td>\n",
              "      <td>17</td>\n",
              "      <td>3383.178835</td>\n",
              "      <td>3383.178835</td>\n",
              "      <td>88000.0</td>\n",
              "      <td>88000</td>\n",
              "      <td>7051</td>\n",
              "      <td>199</td>\n",
              "    </tr>\n",
              "    <tr>\n",
              "      <th>1217006</th>\n",
              "      <td>1209559</td>\n",
              "      <td>634</td>\n",
              "      <td>440.0</td>\n",
              "      <td>440.0</td>\n",
              "      <td>339686</td>\n",
              "      <td>440.000000</td>\n",
              "      <td>440.0</td>\n",
              "      <td>444.271845</td>\n",
              "      <td>0</td>\n",
              "      <td>440.000000</td>\n",
              "      <td>440.000000</td>\n",
              "      <td>1.307559e+06</td>\n",
              "      <td>440.0</td>\n",
              "      <td>17</td>\n",
              "      <td>2971.725332</td>\n",
              "      <td>2971.725332</td>\n",
              "      <td>45320.0</td>\n",
              "      <td>45320</td>\n",
              "      <td>60495</td>\n",
              "      <td>102</td>\n",
              "    </tr>\n",
              "  </tbody>\n",
              "</table>\n",
              "<p>1209961 rows × 20 columns</p>\n",
              "</div>\n",
              "      <button class=\"colab-df-convert\" onclick=\"convertToInteractive('df-594b8882-7d29-4b95-a61d-ef89aedb94d0')\"\n",
              "              title=\"Convert this dataframe to an interactive table.\"\n",
              "              style=\"display:none;\">\n",
              "        \n",
              "  <svg xmlns=\"http://www.w3.org/2000/svg\" height=\"24px\"viewBox=\"0 0 24 24\"\n",
              "       width=\"24px\">\n",
              "    <path d=\"M0 0h24v24H0V0z\" fill=\"none\"/>\n",
              "    <path d=\"M18.56 5.44l.94 2.06.94-2.06 2.06-.94-2.06-.94-.94-2.06-.94 2.06-2.06.94zm-11 1L8.5 8.5l.94-2.06 2.06-.94-2.06-.94L8.5 2.5l-.94 2.06-2.06.94zm10 10l.94 2.06.94-2.06 2.06-.94-2.06-.94-.94-2.06-.94 2.06-2.06.94z\"/><path d=\"M17.41 7.96l-1.37-1.37c-.4-.4-.92-.59-1.43-.59-.52 0-1.04.2-1.43.59L10.3 9.45l-7.72 7.72c-.78.78-.78 2.05 0 2.83L4 21.41c.39.39.9.59 1.41.59.51 0 1.02-.2 1.41-.59l7.78-7.78 2.81-2.81c.8-.78.8-2.07 0-2.86zM5.41 20L4 18.59l7.72-7.72 1.47 1.35L5.41 20z\"/>\n",
              "  </svg>\n",
              "      </button>\n",
              "      \n",
              "  <style>\n",
              "    .colab-df-container {\n",
              "      display:flex;\n",
              "      flex-wrap:wrap;\n",
              "      gap: 12px;\n",
              "    }\n",
              "\n",
              "    .colab-df-convert {\n",
              "      background-color: #E8F0FE;\n",
              "      border: none;\n",
              "      border-radius: 50%;\n",
              "      cursor: pointer;\n",
              "      display: none;\n",
              "      fill: #1967D2;\n",
              "      height: 32px;\n",
              "      padding: 0 0 0 0;\n",
              "      width: 32px;\n",
              "    }\n",
              "\n",
              "    .colab-df-convert:hover {\n",
              "      background-color: #E2EBFA;\n",
              "      box-shadow: 0px 1px 2px rgba(60, 64, 67, 0.3), 0px 1px 3px 1px rgba(60, 64, 67, 0.15);\n",
              "      fill: #174EA6;\n",
              "    }\n",
              "\n",
              "    [theme=dark] .colab-df-convert {\n",
              "      background-color: #3B4455;\n",
              "      fill: #D2E3FC;\n",
              "    }\n",
              "\n",
              "    [theme=dark] .colab-df-convert:hover {\n",
              "      background-color: #434B5C;\n",
              "      box-shadow: 0px 1px 3px 1px rgba(0, 0, 0, 0.15);\n",
              "      filter: drop-shadow(0px 1px 2px rgba(0, 0, 0, 0.3));\n",
              "      fill: #FFFFFF;\n",
              "    }\n",
              "  </style>\n",
              "\n",
              "      <script>\n",
              "        const buttonEl =\n",
              "          document.querySelector('#df-594b8882-7d29-4b95-a61d-ef89aedb94d0 button.colab-df-convert');\n",
              "        buttonEl.style.display =\n",
              "          google.colab.kernel.accessAllowed ? 'block' : 'none';\n",
              "\n",
              "        async function convertToInteractive(key) {\n",
              "          const element = document.querySelector('#df-594b8882-7d29-4b95-a61d-ef89aedb94d0');\n",
              "          const dataTable =\n",
              "            await google.colab.kernel.invokeFunction('convertToInteractive',\n",
              "                                                     [key], {});\n",
              "          if (!dataTable) return;\n",
              "\n",
              "          const docLinkHtml = 'Like what you see? Visit the ' +\n",
              "            '<a target=\"_blank\" href=https://colab.research.google.com/notebooks/data_table.ipynb>data table notebook</a>'\n",
              "            + ' to learn more about interactive tables.';\n",
              "          element.innerHTML = '';\n",
              "          dataTable['output_type'] = 'display_data';\n",
              "          await google.colab.output.renderOutput(dataTable, element);\n",
              "          const docLink = document.createElement('div');\n",
              "          docLink.innerHTML = docLinkHtml;\n",
              "          element.appendChild(docLink);\n",
              "        }\n",
              "      </script>\n",
              "    </div>\n",
              "  </div>\n",
              "  "
            ],
            "text/plain": [
              "          Timestamp   Source Port   Min Packet Length   Fwd Packet Length Min  \\\n",
              "0                 0         60675                 0.0                     0.0   \n",
              "1                 1         60676                 0.0                     0.0   \n",
              "2                 2           443                 0.0                     0.0   \n",
              "3                 3           443                 0.0                     0.0   \n",
              "4                 4             0                 0.0                     0.0   \n",
              "...             ...           ...                 ...                     ...   \n",
              "1217002     1209555           634               440.0                   440.0   \n",
              "1217003     1209556           634               440.0                   440.0   \n",
              "1217004     1209557           634               440.0                   440.0   \n",
              "1217005     1209558           634               440.0                   440.0   \n",
              "1217006     1209559           634               440.0                   440.0   \n",
              "\n",
              "         Flow ID   Packet Length Mean   Fwd Packet Length Max  \\\n",
              "0         231073           282.636364                   509.0   \n",
              "1         231074             0.000000                     0.0   \n",
              "2        1058416             0.000000                     0.0   \n",
              "3        1058417             0.000000                     0.0   \n",
              "4        1054232             0.000000                     0.0   \n",
              "...          ...                  ...                     ...   \n",
              "1217002   342608           440.000000                   440.0   \n",
              "1217003   286293           440.000000                   440.0   \n",
              "1217004   347788           440.000000                   440.0   \n",
              "1217005   345837           440.000000                   440.0   \n",
              "1217006   339686           440.000000                   440.0   \n",
              "\n",
              "          Average Packet Size   ACK Flag Count   Avg Fwd Segment Size  \\\n",
              "0                  296.095238                1             160.666667   \n",
              "1                    0.000000                1               0.000000   \n",
              "2                    0.000000                0               0.000000   \n",
              "3                    0.000000                0               0.000000   \n",
              "4                    0.000000                0               0.000000   \n",
              "...                       ...              ...                    ...   \n",
              "1217002            442.200000                0             440.000000   \n",
              "1217003            442.200000                0             440.000000   \n",
              "1217004            442.200000                0             440.000000   \n",
              "1217005            442.200000                0             440.000000   \n",
              "1217006            444.271845                0             440.000000   \n",
              "\n",
              "          Fwd Packet Length Mean  Flow Bytes/s   Max Packet Length   Protocol  \\\n",
              "0                     160.666667  1.190988e+03              1073.0          6   \n",
              "1                       0.000000  0.000000e+00                 0.0          6   \n",
              "2                       0.000000  0.000000e+00                 0.0          6   \n",
              "3                       0.000000  0.000000e+00                 0.0          6   \n",
              "4                       0.000000  0.000000e+00                 0.0          0   \n",
              "...                          ...           ...                 ...        ...   \n",
              "1217002               440.000000  2.369030e+06               440.0         17   \n",
              "1217003               440.000000  2.094689e+06               440.0         17   \n",
              "1217004               440.000000  2.179567e+06               440.0         17   \n",
              "1217005               440.000000  1.488599e+06               440.0         17   \n",
              "1217006               440.000000  1.307559e+06               440.0         17   \n",
              "\n",
              "         Fwd Packets/s   Flow Packets/s  Total Length of Fwd Packets  \\\n",
              "0             2.298465         4.022313                       1928.0   \n",
              "1             0.395437         0.553611                          0.0   \n",
              "2        666666.666667    666666.666667                          0.0   \n",
              "3        666666.666667    666666.666667                          0.0   \n",
              "4             0.454827         0.454827                          0.0   \n",
              "...                ...              ...                          ...   \n",
              "1217002    5384.159802      5384.159802                      88000.0   \n",
              "1217003    4760.657923      4760.657923                      88000.0   \n",
              "1217004    4953.560372      4953.560372                      88000.0   \n",
              "1217005    3383.178835      3383.178835                      88000.0   \n",
              "1217006    2971.725332      2971.725332                      45320.0   \n",
              "\n",
              "          Subflow Fwd Bytes   Destination Port   act_data_pkt_fwd  \n",
              "0                      1928                 80                  4  \n",
              "1                         0                 80                  0  \n",
              "2                         0              50458                  0  \n",
              "3                         0              50465                  0  \n",
              "4                         0                  0                  0  \n",
              "...                     ...                ...                ...  \n",
              "1217002               88000              63125                199  \n",
              "1217003               88000              12431                199  \n",
              "1217004               88000                881                199  \n",
              "1217005               88000               7051                199  \n",
              "1217006               45320              60495                102  \n",
              "\n",
              "[1209961 rows x 20 columns]"
            ]
          },
          "execution_count": 39,
          "metadata": {},
          "output_type": "execute_result"
        }
      ],
      "source": [
        "data_new_20features_X\n"
      ]
    },
    {
      "cell_type": "code",
      "execution_count": null,
      "metadata": {
        "id": "k7pce3rpE8iq"
      },
      "outputs": [],
      "source": [
        "from sklearn.model_selection import train_test_split\n",
        "X_train, X_test, y_train, y_test = train_test_split(data_X, data_y_trans, test_size = 0.30, random_state = 42)"
      ]
    },
    {
      "cell_type": "code",
      "execution_count": null,
      "metadata": {
        "colab": {
          "base_uri": "https://localhost:8080/"
        },
        "id": "jcAs6N-1FKzb",
        "outputId": "295fbe39-926b-4aba-bfdc-8db71e14671c"
      },
      "outputs": [
        {
          "data": {
            "text/plain": [
              "(846972, 86)"
            ]
          },
          "execution_count": 41,
          "metadata": {},
          "output_type": "execute_result"
        }
      ],
      "source": [
        "X_train.shape"
      ]
    },
    {
      "cell_type": "code",
      "execution_count": null,
      "metadata": {
        "colab": {
          "base_uri": "https://localhost:8080/"
        },
        "id": "aWGey8UOFMg-",
        "outputId": "90a6ca4b-97ac-4018-b609-6f1013ec8c13"
      },
      "outputs": [
        {
          "data": {
            "text/plain": [
              "(362989, 86)"
            ]
          },
          "execution_count": 42,
          "metadata": {},
          "output_type": "execute_result"
        }
      ],
      "source": [
        "X_test.shape"
      ]
    },
    {
      "cell_type": "code",
      "execution_count": null,
      "metadata": {
        "id": "wC2BdR5eFOK_"
      },
      "outputs": [],
      "source": [
        "from sklearn.preprocessing import StandardScaler\n",
        "ss = StandardScaler()\n",
        "X_train_std = ss.fit_transform(X_train)\n",
        "X_test_std = ss.fit_transform(X_test)"
      ]
    },
    {
      "cell_type": "code",
      "execution_count": null,
      "metadata": {
        "id": "AmIONlEJFdyz"
      },
      "outputs": [],
      "source": [
        "from sklearn.model_selection import train_test_split\n",
        "X_train_20, X_test_20, y_train_20, y_test_20 = train_test_split(data_new_20features_X, data_y_trans, test_size = 0.30, random_state = 42)"
      ]
    },
    {
      "cell_type": "code",
      "execution_count": null,
      "metadata": {
        "id": "yUvciyMYF6Sh"
      },
      "outputs": [],
      "source": [
        "from sklearn.preprocessing import StandardScaler\n",
        "ss_20 = StandardScaler()\n",
        "X_train_std_20 = ss_20.fit_transform(X_train_20)\n",
        "X_test_std_20 = ss_20.fit_transform(X_test_20)"
      ]
    },
    {
      "cell_type": "code",
      "execution_count": null,
      "metadata": {
        "colab": {
          "base_uri": "https://localhost:8080/"
        },
        "id": "gOfT4fFMF82n",
        "outputId": "59190054-6131-488d-c820-05338889c681"
      },
      "outputs": [
        {
          "data": {
            "text/plain": [
              "(846972, 20)"
            ]
          },
          "execution_count": 46,
          "metadata": {},
          "output_type": "execute_result"
        }
      ],
      "source": [
        "X_train_std_20.shape"
      ]
    },
    {
      "cell_type": "code",
      "execution_count": null,
      "metadata": {
        "colab": {
          "base_uri": "https://localhost:8080/"
        },
        "id": "o1wF49R8GAk8",
        "outputId": "68a34771-c9bb-4828-ef9b-4ba16bc9a157"
      },
      "outputs": [
        {
          "data": {
            "text/plain": [
              "(846972,)"
            ]
          },
          "execution_count": 47,
          "metadata": {},
          "output_type": "execute_result"
        }
      ],
      "source": [
        "y_train_20.shape"
      ]
    },
    {
      "cell_type": "code",
      "execution_count": null,
      "metadata": {
        "colab": {
          "base_uri": "https://localhost:8080/"
        },
        "id": "9myGWoMTGdjl",
        "outputId": "30045acf-8390-4b81-ffb7-5ce048fe54c1"
      },
      "outputs": [
        {
          "data": {
            "text/plain": [
              "(362989, 20)"
            ]
          },
          "execution_count": 48,
          "metadata": {},
          "output_type": "execute_result"
        }
      ],
      "source": [
        "X_test_std_20.shape"
      ]
    },
    {
      "cell_type": "code",
      "execution_count": null,
      "metadata": {
        "colab": {
          "base_uri": "https://localhost:8080/"
        },
        "id": "K7rBCJaoGgGR",
        "outputId": "7c5b9173-deb1-4884-a5c7-75add1903633"
      },
      "outputs": [
        {
          "data": {
            "text/plain": [
              "(362989,)"
            ]
          },
          "execution_count": 49,
          "metadata": {},
          "output_type": "execute_result"
        }
      ],
      "source": [
        "y_test_20.shape"
      ]
    },
    {
      "cell_type": "code",
      "execution_count": null,
      "metadata": {
        "id": "N0lhSEmJKuou"
      },
      "outputs": [],
      "source": [
        "from sklearn.ensemble import GradientBoostingClassifier"
      ]
    },
    {
      "cell_type": "code",
      "execution_count": null,
      "metadata": {
        "colab": {
          "base_uri": "https://localhost:8080/"
        },
        "id": "QshF_VmrKwGb",
        "outputId": "241b9beb-1ab2-4869-95dc-d5e3c980d585"
      },
      "outputs": [
        {
          "data": {
            "text/plain": [
              "GradientBoostingClassifier()"
            ]
          },
          "execution_count": 51,
          "metadata": {},
          "output_type": "execute_result"
        }
      ],
      "source": [
        "gradinet_boost = GradientBoostingClassifier()\n",
        "gradinet_boost.fit(X_train_std_20, y_train_20)"
      ]
    },
    {
      "cell_type": "code",
      "execution_count": null,
      "metadata": {
        "id": "vr0qYTrOK2Kk"
      },
      "outputs": [],
      "source": [
        "y_pred_xgboost = gradinet_boost.predict(X_test_std_20)"
      ]
    },
    {
      "cell_type": "code",
      "execution_count": null,
      "metadata": {
        "colab": {
          "base_uri": "https://localhost:8080/"
        },
        "id": "iAuOKh6kkLum",
        "outputId": "b4ba692a-bb75-4295-fd59-47001509ba21"
      },
      "outputs": [
        {
          "data": {
            "text/plain": [
              "array([1, 1, 1, ..., 1, 1, 1])"
            ]
          },
          "execution_count": 53,
          "metadata": {},
          "output_type": "execute_result"
        }
      ],
      "source": [
        "y_pred_xgboost"
      ]
    },
    {
      "cell_type": "code",
      "execution_count": null,
      "metadata": {
        "colab": {
          "base_uri": "https://localhost:8080/"
        },
        "id": "oWyuWYxNK5S9",
        "outputId": "c98296fd-621f-4f2d-ba1a-236e6a1eb7fb"
      },
      "outputs": [
        {
          "data": {
            "text/plain": [
              "array([1, 1, 1, ..., 1, 1, 1])"
            ]
          },
          "execution_count": 54,
          "metadata": {},
          "output_type": "execute_result"
        }
      ],
      "source": [
        "y_test_20"
      ]
    },
    {
      "cell_type": "code",
      "execution_count": null,
      "metadata": {
        "id": "FUVp3AXVK4qg"
      },
      "outputs": [],
      "source": [
        "from sklearn.metrics import accuracy_score"
      ]
    },
    {
      "cell_type": "code",
      "execution_count": null,
      "metadata": {
        "colab": {
          "base_uri": "https://localhost:8080/"
        },
        "id": "PiUmEHh0K7h3",
        "outputId": "52045c23-4e16-40cd-aa39-33c6fa601562"
      },
      "outputs": [
        {
          "name": "stdout",
          "output_type": "stream",
          "text": [
            "Accuracy Score for the XGBoost Classifier is: 99.964%\n"
          ]
        }
      ],
      "source": [
        "print(\"Accuracy Score for the XGBoost Classifier is: {0:.3f}%\".format(accuracy_score(y_test_20, y_pred_xgboost)* 100))"
      ]
    },
    {
      "cell_type": "code",
      "execution_count": null,
      "metadata": {
        "id": "f_QMT6pxojsc"
      },
      "outputs": [],
      "source": [
        "from sklearn.metrics import classification_report"
      ]
    },
    {
      "cell_type": "code",
      "execution_count": null,
      "metadata": {
        "colab": {
          "base_uri": "https://localhost:8080/"
        },
        "id": "us5NM8ZeK-j1",
        "outputId": "583685f9-d8b9-4de4-bb1e-3dd7f415df30"
      },
      "outputs": [
        {
          "name": "stdout",
          "output_type": "stream",
          "text": [
            "Classification Report for XGBOOST: \n",
            "               precision    recall  f1-score   support\n",
            "\n",
            "      BENIGN       0.97      1.00      0.98      4253\n",
            "   DrDoS_NTP       1.00      1.00      1.00    358736\n",
            "\n",
            "    accuracy                           1.00    362989\n",
            "   macro avg       0.99      1.00      0.99    362989\n",
            "weighted avg       1.00      1.00      1.00    362989\n",
            "\n"
          ]
        }
      ],
      "source": [
        "print(\"Classification Report for XGBOOST: \\n\", classification_report(le.inverse_transform(y_test_20), le.inverse_transform(y_pred_xgboost)))"
      ]
    },
    {
      "cell_type": "code",
      "execution_count": null,
      "metadata": {
        "id": "4PGIvlhlotO5"
      },
      "outputs": [],
      "source": [
        "from sklearn.metrics import confusion_matrix"
      ]
    },
    {
      "cell_type": "code",
      "execution_count": null,
      "metadata": {
        "colab": {
          "base_uri": "https://localhost:8080/"
        },
        "id": "FBAvLAvvLCqx",
        "outputId": "8deae268-e98e-4b1d-e28a-46fd0c0e9351"
      },
      "outputs": [
        {
          "name": "stdout",
          "output_type": "stream",
          "text": [
            "LSTM Confusion: \n",
            " [[  4242     11]\n",
            " [   119 358617]]\n"
          ]
        }
      ],
      "source": [
        "xgboost_conf_mat = confusion_matrix(y_test_20, y_pred_xgboost)\n",
        "print(\"LSTM Confusion: \\n\", xgboost_conf_mat)"
      ]
    },
    {
      "cell_type": "code",
      "execution_count": null,
      "metadata": {
        "id": "3d7AY1EUozc9"
      },
      "outputs": [],
      "source": [
        "from sklearn.metrics import roc_curve"
      ]
    },
    {
      "cell_type": "code",
      "execution_count": null,
      "metadata": {
        "id": "rYBIi1-YSqav"
      },
      "outputs": [],
      "source": [
        "from sklearn import metrics"
      ]
    },
    {
      "cell_type": "code",
      "execution_count": null,
      "metadata": {
        "id": "DN-uz8I3bpwt"
      },
      "outputs": [],
      "source": [
        "from matplotlib import pyplot as plt"
      ]
    },
    {
      "cell_type": "code",
      "execution_count": null,
      "metadata": {
        "colab": {
          "base_uri": "https://localhost:8080/",
          "height": 265
        },
        "id": "GDON-dqbLDej",
        "outputId": "93849c50-41aa-49cc-aa66-156c17ed2999"
      },
      "outputs": [
        {
          "data": {
            "image/png": "[encoded data removed]",
            "text/plain": [
              "<Figure size 432x288 with 1 Axes>"
            ]
          },
          "metadata": {
            "needs_background": "light"
          },
          "output_type": "display_data"
        }
      ],
      "source": [
        "# RoC Curve\n",
        "title = 'Receiver operating characteristic of XGBOOST'\n",
        "fpr, tpr, _ = metrics.roc_curve(y_test_20, y_pred_xgboost)\n",
        "auc = metrics.roc_auc_score(y_test_20, y_pred_xgboost)\n",
        "plt.plot(fpr,tpr,label=\"data 1, auc=\"+str(auc))\n",
        "plt.legend(loc=4)\n",
        "plt.show()"
      ]
    },
    {
      "cell_type": "code",
      "execution_count": null,
      "metadata": {
        "colab": {
          "base_uri": "https://localhost:8080/"
        },
        "id": "cQkhNE-1N5_1",
        "outputId": "48f6a991-a491-4681-e324-0549e7b97f76"
      },
      "outputs": [
        {
          "data": {
            "text/plain": [
              "362989"
            ]
          },
          "execution_count": 65,
          "metadata": {},
          "output_type": "execute_result"
        }
      ],
      "source": [
        "len(y_pred_xgboost)"
      ]
    },
    {
      "cell_type": "code",
      "execution_count": null,
      "metadata": {
        "colab": {
          "base_uri": "https://localhost:8080/"
        },
        "id": "CyYIOaJ8OzpJ",
        "outputId": "29e2918e-c37d-4874-f7d7-d2930c24bc96"
      },
      "outputs": [
        {
          "name": "stdout",
          "output_type": "stream",
          "text": [
            "Looking in indexes: https://pypi.org/simple, https://us-python.pkg.dev/colab-wheels/public/simple/\n",
            "\u001b[31mERROR: Could not find a version that satisfies the requirement scikitplot (from versions: none)\u001b[0m\u001b[31m\n",
            "\u001b[0m\u001b[31mERROR: No matching distribution found for scikitplot\u001b[0m\u001b[31m\n",
            "\u001b[0m"
          ]
        }
      ],
      "source": [
        "!pip install scikitplot"
      ]
    },
    {
      "cell_type": "code",
      "execution_count": null,
      "metadata": {
        "colab": {
          "base_uri": "https://localhost:8080/"
        },
        "id": "a7BgrxppRR2t",
        "outputId": "c2363ad8-79bf-4983-f33b-5f48d0ad3436"
      },
      "outputs": [
        {
          "name": "stdout",
          "output_type": "stream",
          "text": [
            "Looking in indexes: https://pypi.org/simple, https://us-python.pkg.dev/colab-wheels/public/simple/\n",
            "Collecting scikit-plot\n",
            "  Downloading scikit_plot-0.3.7-py3-none-any.whl (33 kB)\n",
            "Requirement already satisfied: scikit-learn>=0.18 in /usr/local/lib/python3.8/dist-packages (from scikit-plot) (1.0.2)\n",
            "Requirement already satisfied: joblib>=0.10 in /usr/local/lib/python3.8/dist-packages (from scikit-plot) (1.2.0)\n",
            "Requirement already satisfied: matplotlib>=1.4.0 in /usr/local/lib/python3.8/dist-packages (from scikit-plot) (3.5.3)\n",
            "Requirement already satisfied: scipy>=0.9 in /usr/local/lib/python3.8/dist-packages (from scikit-plot) (1.10.1)\n",
            "Requirement already satisfied: kiwisolver>=1.0.1 in /usr/local/lib/python3.8/dist-packages (from matplotlib>=1.4.0->scikit-plot) (1.4.4)\n",
            "Requirement already satisfied: python-dateutil>=2.7 in /usr/local/lib/python3.8/dist-packages (from matplotlib>=1.4.0->scikit-plot) (2.8.2)\n",
            "Requirement already satisfied: pillow>=6.2.0 in /usr/local/lib/python3.8/dist-packages (from matplotlib>=1.4.0->scikit-plot) (8.4.0)\n",
            "Requirement already satisfied: packaging>=20.0 in /usr/local/lib/python3.8/dist-packages (from matplotlib>=1.4.0->scikit-plot) (23.0)\n",
            "Requirement already satisfied: cycler>=0.10 in /usr/local/lib/python3.8/dist-packages (from matplotlib>=1.4.0->scikit-plot) (0.11.0)\n",
            "Requirement already satisfied: numpy>=1.17 in /usr/local/lib/python3.8/dist-packages (from matplotlib>=1.4.0->scikit-plot) (1.24.2)\n",
            "Requirement already satisfied: fonttools>=4.22.0 in /usr/local/lib/python3.8/dist-packages (from matplotlib>=1.4.0->scikit-plot) (4.38.0)\n",
            "Requirement already satisfied: pyparsing>=2.2.1 in /usr/local/lib/python3.8/dist-packages (from matplotlib>=1.4.0->scikit-plot) (3.0.9)\n",
            "Requirement already satisfied: threadpoolctl>=2.0.0 in /usr/local/lib/python3.8/dist-packages (from scikit-learn>=0.18->scikit-plot) (3.1.0)\n",
            "Requirement already satisfied: six>=1.5 in /usr/local/lib/python3.8/dist-packages (from python-dateutil>=2.7->matplotlib>=1.4.0->scikit-plot) (1.15.0)\n",
            "Installing collected packages: scikit-plot\n",
            "Successfully installed scikit-plot-0.3.7\n"
          ]
        }
      ],
      "source": [
        "pip install scikit-plot"
      ]
    },
    {
      "cell_type": "code",
      "execution_count": null,
      "metadata": {
        "colab": {
          "base_uri": "https://localhost:8080/",
          "height": 415
        },
        "id": "mfH-0eeYOAeS",
        "outputId": "6cd0e82f-a516-4d3f-82da-3f84c92dff51"
      },
      "outputs": [
        {
          "name": "stderr",
          "output_type": "stream",
          "text": [
            "/usr/local/lib/python3.8/dist-packages/sklearn/utils/deprecation.py:87: FutureWarning: Function plot_roc_curve is deprecated; This will be removed in v0.5.0. Please use scikitplot.metrics.plot_roc instead.\n",
            "  warnings.warn(msg, category=FutureWarning)\n"
          ]
        },
        {
          "ename": "IndexError",
          "evalue": "ignored",
          "output_type": "error",
          "traceback": [
            "\u001b[0;31m---------------------------------------------------------------------------\u001b[0m",
            "\u001b[0;31mIndexError\u001b[0m                                Traceback (most recent call last)",
            "\u001b[0;32m<ipython-input-68-5f1a50e02450>\u001b[0m in \u001b[0;36m<module>\u001b[0;34m\u001b[0m\n\u001b[1;32m      2\u001b[0m \u001b[0;32mimport\u001b[0m \u001b[0mmatplotlib\u001b[0m\u001b[0;34m.\u001b[0m\u001b[0mpyplot\u001b[0m \u001b[0;32mas\u001b[0m \u001b[0mplt\u001b[0m\u001b[0;34m\u001b[0m\u001b[0;34m\u001b[0m\u001b[0m\n\u001b[1;32m      3\u001b[0m \u001b[0;34m\u001b[0m\u001b[0m\n\u001b[0;32m----> 4\u001b[0;31m \u001b[0mskplt\u001b[0m\u001b[0;34m.\u001b[0m\u001b[0mmetrics\u001b[0m\u001b[0;34m.\u001b[0m\u001b[0mplot_roc_curve\u001b[0m\u001b[0;34m(\u001b[0m\u001b[0my_test_20\u001b[0m\u001b[0;34m,\u001b[0m \u001b[0my_pred_xgboost\u001b[0m\u001b[0;34m)\u001b[0m\u001b[0;34m\u001b[0m\u001b[0;34m\u001b[0m\u001b[0m\n\u001b[0m\u001b[1;32m      5\u001b[0m \u001b[0mplt\u001b[0m\u001b[0;34m.\u001b[0m\u001b[0mshow\u001b[0m\u001b[0;34m(\u001b[0m\u001b[0;34m)\u001b[0m\u001b[0;34m\u001b[0m\u001b[0;34m\u001b[0m\u001b[0m\n",
            "\u001b[0;32m/usr/local/lib/python3.8/dist-packages/sklearn/utils/deprecation.py\u001b[0m in \u001b[0;36mwrapped\u001b[0;34m(*args, **kwargs)\u001b[0m\n\u001b[1;32m     86\u001b[0m         \u001b[0;32mdef\u001b[0m \u001b[0mwrapped\u001b[0m\u001b[0;34m(\u001b[0m\u001b[0;34m*\u001b[0m\u001b[0margs\u001b[0m\u001b[0;34m,\u001b[0m \u001b[0;34m**\u001b[0m\u001b[0mkwargs\u001b[0m\u001b[0;34m)\u001b[0m\u001b[0;34m:\u001b[0m\u001b[0;34m\u001b[0m\u001b[0;34m\u001b[0m\u001b[0m\n\u001b[1;32m     87\u001b[0m             \u001b[0mwarnings\u001b[0m\u001b[0;34m.\u001b[0m\u001b[0mwarn\u001b[0m\u001b[0;34m(\u001b[0m\u001b[0mmsg\u001b[0m\u001b[0;34m,\u001b[0m \u001b[0mcategory\u001b[0m\u001b[0;34m=\u001b[0m\u001b[0mFutureWarning\u001b[0m\u001b[0;34m)\u001b[0m\u001b[0;34m\u001b[0m\u001b[0;34m\u001b[0m\u001b[0m\n\u001b[0;32m---> 88\u001b[0;31m             \u001b[0;32mreturn\u001b[0m \u001b[0mfun\u001b[0m\u001b[0;34m(\u001b[0m\u001b[0;34m*\u001b[0m\u001b[0margs\u001b[0m\u001b[0;34m,\u001b[0m \u001b[0;34m**\u001b[0m\u001b[0mkwargs\u001b[0m\u001b[0;34m)\u001b[0m\u001b[0;34m\u001b[0m\u001b[0;34m\u001b[0m\u001b[0m\n\u001b[0m\u001b[1;32m     89\u001b[0m \u001b[0;34m\u001b[0m\u001b[0m\n\u001b[1;32m     90\u001b[0m         \u001b[0mwrapped\u001b[0m\u001b[0;34m.\u001b[0m\u001b[0m__doc__\u001b[0m \u001b[0;34m=\u001b[0m \u001b[0mself\u001b[0m\u001b[0;34m.\u001b[0m\u001b[0m_update_doc\u001b[0m\u001b[0;34m(\u001b[0m\u001b[0mwrapped\u001b[0m\u001b[0;34m.\u001b[0m\u001b[0m__doc__\u001b[0m\u001b[0;34m)\u001b[0m\u001b[0;34m\u001b[0m\u001b[0;34m\u001b[0m\u001b[0m\n",
            "\u001b[0;32m/usr/local/lib/python3.8/dist-packages/scikitplot/metrics.py\u001b[0m in \u001b[0;36mplot_roc_curve\u001b[0;34m(y_true, y_probas, title, curves, ax, figsize, cmap, title_fontsize, text_fontsize)\u001b[0m\n\u001b[1;32m    255\u001b[0m     \u001b[0mroc_auc\u001b[0m \u001b[0;34m=\u001b[0m \u001b[0mdict\u001b[0m\u001b[0;34m(\u001b[0m\u001b[0;34m)\u001b[0m\u001b[0;34m\u001b[0m\u001b[0;34m\u001b[0m\u001b[0m\n\u001b[1;32m    256\u001b[0m     \u001b[0;32mfor\u001b[0m \u001b[0mi\u001b[0m \u001b[0;32min\u001b[0m \u001b[0mrange\u001b[0m\u001b[0;34m(\u001b[0m\u001b[0mlen\u001b[0m\u001b[0;34m(\u001b[0m\u001b[0mclasses\u001b[0m\u001b[0;34m)\u001b[0m\u001b[0;34m)\u001b[0m\u001b[0;34m:\u001b[0m\u001b[0;34m\u001b[0m\u001b[0;34m\u001b[0m\u001b[0m\n\u001b[0;32m--> 257\u001b[0;31m         fpr[i], tpr[i], _ = roc_curve(y_true, probas[:, i],\n\u001b[0m\u001b[1;32m    258\u001b[0m                                       pos_label=classes[i])\n\u001b[1;32m    259\u001b[0m         \u001b[0mroc_auc\u001b[0m\u001b[0;34m[\u001b[0m\u001b[0mi\u001b[0m\u001b[0;34m]\u001b[0m \u001b[0;34m=\u001b[0m \u001b[0mauc\u001b[0m\u001b[0;34m(\u001b[0m\u001b[0mfpr\u001b[0m\u001b[0;34m[\u001b[0m\u001b[0mi\u001b[0m\u001b[0;34m]\u001b[0m\u001b[0;34m,\u001b[0m \u001b[0mtpr\u001b[0m\u001b[0;34m[\u001b[0m\u001b[0mi\u001b[0m\u001b[0;34m]\u001b[0m\u001b[0;34m)\u001b[0m\u001b[0;34m\u001b[0m\u001b[0;34m\u001b[0m\u001b[0m\n",
            "\u001b[0;31mIndexError\u001b[0m: too many indices for array: array is 1-dimensional, but 2 were indexed"
          ]
        }
      ],
      "source": [
        "import scikitplot as skplt\n",
        "import matplotlib.pyplot as plt\n",
        "\n",
        "skplt.metrics.plot_roc_curve(y_test_20, y_pred_xgboost)\n",
        "plt.show()"
      ]
    },
    {
      "cell_type": "code",
      "execution_count": null,
      "metadata": {
        "id": "X4ysE4eWIYXJ"
      },
      "outputs": [],
      "source": []
    }
  ],
  "metadata": {
    "accelerator": "TPU",
    "colab": {
      "machine_shape": "hm",
      "provenance": []
    },
    "kernelspec": {
      "display_name": "Python 3",
      "name": "python3"
    },
    "language_info": {
      "name": "python",
      "version": "3.12.5"
    }
  },
  "nbformat": 4,
  "nbformat_minor": 0
}
